{
  "nbformat": 4,
  "nbformat_minor": 0,
  "metadata": {
    "colab": {
      "name": "Leave_One_Out_4_fcn_single_layer.ipynb",
      "provenance": [],
      "collapsed_sections": [],
      "include_colab_link": true
    },
    "kernelspec": {
      "name": "python3",
      "display_name": "Python 3"
    },
    "accelerator": "GPU"
  },
  "cells": [
    {
      "cell_type": "markdown",
      "metadata": {
        "id": "view-in-github",
        "colab_type": "text"
      },
      "source": [
        "<a href=\"https://colab.research.google.com/github/zhibinz2/Neural-Networks-and-Machine-Learning/blob/master/Leave_One_Out_4_fcn_single_layer.ipynb\" target=\"_parent\"><img src=\"https://colab.research.google.com/assets/colab-badge.svg\" alt=\"Open In Colab\"/></a>"
      ]
    },
    {
      "cell_type": "code",
      "metadata": {
        "colab": {
          "base_uri": "https://localhost:8080/"
        },
        "id": "7XTS--GOIOlj",
        "outputId": "d9177b1f-3d12-4f0f-e58f-bde80044cc3c"
      },
      "source": [
        "import numpy as np\n",
        "!wget https://github.com/zhibinz2/Neural-Networks-and-Machine-Learning/raw/master/data.npy\n",
        "data=np.load('data.npy')\n",
        "\n",
        "import tqdm\n",
        "\n",
        "import torch\n",
        "from torch import optim\n",
        "from torch import nn\n",
        "\n",
        "\n",
        "import torchvision\n",
        "from torchvision import datasets, transforms\n",
        "import torchvision.transforms as transforms\n",
        "from torchvision import models, transforms\n",
        "from torch.autograd import Variable\n",
        "\n",
        "import pandas as pd\n",
        "from PIL import Image\n",
        "import requests\n",
        "import io\n",
        "import random, time, sys\n",
        "from collections import namedtuple\n",
        "\n",
        "import matplotlib.pyplot as plt\n",
        "from matplotlib import pyplot as plt"
      ],
      "execution_count": 1,
      "outputs": [
        {
          "output_type": "stream",
          "text": [
            "--2020-12-07 08:23:22--  https://github.com/zhibinz2/Neural-Networks-and-Machine-Learning/raw/master/data.npy\n",
            "Resolving github.com (github.com)... 140.82.114.3\n",
            "Connecting to github.com (github.com)|140.82.114.3|:443... connected.\n",
            "HTTP request sent, awaiting response... 302 Found\n",
            "Location: https://raw.githubusercontent.com/zhibinz2/Neural-Networks-and-Machine-Learning/master/data.npy [following]\n",
            "--2020-12-07 08:23:22--  https://raw.githubusercontent.com/zhibinz2/Neural-Networks-and-Machine-Learning/master/data.npy\n",
            "Resolving raw.githubusercontent.com (raw.githubusercontent.com)... 151.101.0.133, 151.101.64.133, 151.101.128.133, ...\n",
            "Connecting to raw.githubusercontent.com (raw.githubusercontent.com)|151.101.0.133|:443... connected.\n",
            "HTTP request sent, awaiting response... 200 OK\n",
            "Length: 14851328 (14M) [application/octet-stream]\n",
            "Saving to: ‘data.npy’\n",
            "\n",
            "data.npy            100%[===================>]  14.16M  --.-KB/s    in 0.1s    \n",
            "\n",
            "2020-12-07 08:23:22 (129 MB/s) - ‘data.npy’ saved [14851328/14851328]\n",
            "\n"
          ],
          "name": "stdout"
        }
      ]
    },
    {
      "cell_type": "code",
      "metadata": {
        "id": "02H1Awk9IaNc"
      },
      "source": [
        "# Add one dimension, needed for both single layer FCN and convolutional network\n",
        "data=np.expand_dims(data, axis=1)"
      ],
      "execution_count": 2,
      "outputs": []
    },
    {
      "cell_type": "code",
      "metadata": {
        "id": "rQUrsKXtIre1"
      },
      "source": [
        "# only for single layer FCN\n",
        "import numpy.matlib\n",
        "A=numpy.matlib.repmat(np.array([1, 0]),200,1)\n",
        "B=numpy.matlib.repmat(np.array([0, 1]),200,1)\n",
        "targets=np.concatenate((A,B),axis=0)"
      ],
      "execution_count": 3,
      "outputs": []
    },
    {
      "cell_type": "code",
      "metadata": {
        "colab": {
          "base_uri": "https://localhost:8080/"
        },
        "id": "MeKGBtXYIrcA",
        "outputId": "98575f21-6fe2-499f-d839-2760e12cacf2"
      },
      "source": [
        "# leave one out\n",
        "from sklearn.model_selection import LeaveOneOut\n",
        "loo = LeaveOneOut()\n",
        "loo.get_n_splits(data)"
      ],
      "execution_count": 4,
      "outputs": [
        {
          "output_type": "execute_result",
          "data": {
            "text/plain": [
              "400"
            ]
          },
          "metadata": {
            "tags": []
          },
          "execution_count": 4
        }
      ]
    },
    {
      "cell_type": "code",
      "metadata": {
        "id": "3ryDCSWpN6VV"
      },
      "source": [
        "from torch.utils.data import Dataset\n",
        "class MyTrainingDataset(Dataset):\n",
        "    def __init__(self, root, transform=None, target_transform=None):\n",
        "        self.root=root\n",
        "        self.transform=transform\n",
        "        self.target_transform=target_transform\n",
        "        self.data=np.load(self.root[0])\n",
        "        self.targets=np.load(self.root[1])\n",
        "        \n",
        "    def __len__(self):\n",
        "        return len(self.data)\n",
        " \n",
        "    def __getitem__(self, idx):\n",
        "        sample=self.data[idx] \n",
        "        target=self.targets[idx]\n",
        "        \n",
        "        if self.transform:\n",
        "            sample=self.transform(sample)\n",
        "        if self.target_transform:\n",
        "            target=self.target_transform(target)\n",
        "            \n",
        "        return sample, target"
      ],
      "execution_count": 5,
      "outputs": []
    },
    {
      "cell_type": "code",
      "metadata": {
        "id": "mGhRd6Kq5GOn"
      },
      "source": [
        "net = torch.nn.Sequential(torch.nn.Linear(4641, 100),torch.nn.Sigmoid(),torch.nn.Linear(100,2),\n",
        "                                  torch.nn.Sigmoid())"
      ],
      "execution_count": 6,
      "outputs": []
    },
    {
      "cell_type": "code",
      "metadata": {
        "id": "kMFIcQavPm-n"
      },
      "source": [
        "mse_loss = torch.nn.MSELoss()\n",
        "opt = torch.optim.Adam(net.parameters(), lr=1e-3)"
      ],
      "execution_count": 7,
      "outputs": []
    },
    {
      "cell_type": "code",
      "metadata": {
        "id": "XrWyhnpmPsYF"
      },
      "source": [
        "def train_step(x, t, net, opt_fn, loss_fn):\n",
        "    y = net(x)\n",
        "    loss = loss_fn(y, t)\n",
        "    loss.backward()\n",
        "    opt_fn.step()\n",
        "    opt_fn.zero_grad()\n",
        "    return loss"
      ],
      "execution_count": 8,
      "outputs": []
    },
    {
      "cell_type": "code",
      "metadata": {
        "id": "XwNWod4yTPJT"
      },
      "source": [
        "batch=1"
      ],
      "execution_count": 13,
      "outputs": []
    },
    {
      "cell_type": "code",
      "metadata": {
        "id": "aPo2DvJxIrZA",
        "colab": {
          "base_uri": "https://localhost:8080/",
          "height": 493
        },
        "outputId": "24201407-1911-4906-9d0f-71c1cc8231fb"
      },
      "source": [
        "for train_index, test_index in loo.split(data):\n",
        "  #print(\"TRAIN:\", train_index, \"TEST:\", test_index)\n",
        "  train_data, test_data = data[train_index], data[test_index]\n",
        "  train_targets, test_targets = targets[train_index], targets[test_index]\n",
        "  #print(train_data, test_data, train_targets, test_targets)\n",
        "\n",
        "  np.save('train_data.npy',train_data)\n",
        "  np.save('train_targets.npy',train_targets)\n",
        "  train_set=MyTrainingDataset(root=['train_data.npy', 'train_targets.npy'])\n",
        "\n",
        "  np.save('test_data.npy',test_data)\n",
        "  np.save('test_targets.npy',test_targets)\n",
        "  test_set=MyTrainingDataset(root=['test_data.npy', 'test_targets.npy'])\n",
        "\n",
        "  train_loader = torch.utils.data.DataLoader(train_set, batch_size=batch, shuffle=True)\n",
        "  test_loader = torch.utils.data.DataLoader(test_set, batch_size=batch, shuffle=False)\n",
        "\n",
        "  # 4_fcn_single_layer\n",
        "  x,t = next(iter(train_loader))\n",
        "  train_step(x.float().view(-1,4641), t.float(), net, opt, mse_loss)\n",
        "\n",
        "  # Make prediction\n",
        "  for x,t in iter(train_loader):\n",
        "    y = net(x.float().view(-1,4641))\n",
        "\n",
        "  # Calculate accuracy\n",
        "  torch.mean((t.argmax(1) == y.argmax(1)).float())\n",
        "\n",
        "  # Train the network over multiple epochs\n",
        "  acc_hist_train = []\n",
        "  acc_hist_test = []\n",
        "  for epoch in range(50):\n",
        "    acc_batch = []\n",
        "    for x,t in iter(train_loader):\n",
        "      loss_ = train_step(x.float().view(-1,4641), t.float(), net, opt, mse_loss)\n",
        "      y = net(x.float().view(-1,4641))\n",
        "      acc_batch.append(torch.mean((t.argmax(1) == y.argmax(1)).float()))\n",
        "    acc_hist_train.append(torch.mean(torch.FloatTensor(acc_batch)))\n",
        "    print(loss_)\n",
        "\n",
        "    acc_batch = []\n",
        "    for x,t in iter(test_loader):\n",
        "      y = net(x.float().view(-1,4641))\n",
        "      acc_batch.append(torch.mean((t.argmax(1) == y.argmax(1)).float()))\n",
        "    acc_hist_test.append(torch.mean(torch.FloatTensor(acc_batch)))\n",
        "\n",
        "  acc_hist_train\n",
        "  acc_hist_test\n",
        "\n"
      ],
      "execution_count": 14,
      "outputs": [
        {
          "output_type": "stream",
          "text": [
            "tensor(0.2488, grad_fn=<MseLossBackward>)\n",
            "tensor(0.2487, grad_fn=<MseLossBackward>)\n",
            "tensor(0.2516, grad_fn=<MseLossBackward>)\n",
            "tensor(0.2523, grad_fn=<MseLossBackward>)\n",
            "tensor(0.2517, grad_fn=<MseLossBackward>)\n",
            "tensor(0.2513, grad_fn=<MseLossBackward>)\n",
            "tensor(0.2510, grad_fn=<MseLossBackward>)\n"
          ],
          "name": "stdout"
        },
        {
          "output_type": "error",
          "ename": "KeyboardInterrupt",
          "evalue": "ignored",
          "traceback": [
            "\u001b[0;31m---------------------------------------------------------------------------\u001b[0m",
            "\u001b[0;31mKeyboardInterrupt\u001b[0m                         Traceback (most recent call last)",
            "\u001b[0;32m<ipython-input-14-46e015a191b6>\u001b[0m in \u001b[0;36m<module>\u001b[0;34m()\u001b[0m\n\u001b[1;32m     33\u001b[0m     \u001b[0macc_batch\u001b[0m \u001b[0;34m=\u001b[0m \u001b[0;34m[\u001b[0m\u001b[0;34m]\u001b[0m\u001b[0;34m\u001b[0m\u001b[0;34m\u001b[0m\u001b[0m\n\u001b[1;32m     34\u001b[0m     \u001b[0;32mfor\u001b[0m \u001b[0mx\u001b[0m\u001b[0;34m,\u001b[0m\u001b[0mt\u001b[0m \u001b[0;32min\u001b[0m \u001b[0miter\u001b[0m\u001b[0;34m(\u001b[0m\u001b[0mtrain_loader\u001b[0m\u001b[0;34m)\u001b[0m\u001b[0;34m:\u001b[0m\u001b[0;34m\u001b[0m\u001b[0;34m\u001b[0m\u001b[0m\n\u001b[0;32m---> 35\u001b[0;31m       \u001b[0mloss_\u001b[0m \u001b[0;34m=\u001b[0m \u001b[0mtrain_step\u001b[0m\u001b[0;34m(\u001b[0m\u001b[0mx\u001b[0m\u001b[0;34m.\u001b[0m\u001b[0mfloat\u001b[0m\u001b[0;34m(\u001b[0m\u001b[0;34m)\u001b[0m\u001b[0;34m.\u001b[0m\u001b[0mview\u001b[0m\u001b[0;34m(\u001b[0m\u001b[0;34m-\u001b[0m\u001b[0;36m1\u001b[0m\u001b[0;34m,\u001b[0m\u001b[0;36m4641\u001b[0m\u001b[0;34m)\u001b[0m\u001b[0;34m,\u001b[0m \u001b[0mt\u001b[0m\u001b[0;34m.\u001b[0m\u001b[0mfloat\u001b[0m\u001b[0;34m(\u001b[0m\u001b[0;34m)\u001b[0m\u001b[0;34m,\u001b[0m \u001b[0mnet\u001b[0m\u001b[0;34m,\u001b[0m \u001b[0mopt\u001b[0m\u001b[0;34m,\u001b[0m \u001b[0mmse_loss\u001b[0m\u001b[0;34m)\u001b[0m\u001b[0;34m\u001b[0m\u001b[0;34m\u001b[0m\u001b[0m\n\u001b[0m\u001b[1;32m     36\u001b[0m       \u001b[0my\u001b[0m \u001b[0;34m=\u001b[0m \u001b[0mnet\u001b[0m\u001b[0;34m(\u001b[0m\u001b[0mx\u001b[0m\u001b[0;34m.\u001b[0m\u001b[0mfloat\u001b[0m\u001b[0;34m(\u001b[0m\u001b[0;34m)\u001b[0m\u001b[0;34m.\u001b[0m\u001b[0mview\u001b[0m\u001b[0;34m(\u001b[0m\u001b[0;34m-\u001b[0m\u001b[0;36m1\u001b[0m\u001b[0;34m,\u001b[0m\u001b[0;36m4641\u001b[0m\u001b[0;34m)\u001b[0m\u001b[0;34m)\u001b[0m\u001b[0;34m\u001b[0m\u001b[0;34m\u001b[0m\u001b[0m\n\u001b[1;32m     37\u001b[0m       \u001b[0macc_batch\u001b[0m\u001b[0;34m.\u001b[0m\u001b[0mappend\u001b[0m\u001b[0;34m(\u001b[0m\u001b[0mtorch\u001b[0m\u001b[0;34m.\u001b[0m\u001b[0mmean\u001b[0m\u001b[0;34m(\u001b[0m\u001b[0;34m(\u001b[0m\u001b[0mt\u001b[0m\u001b[0;34m.\u001b[0m\u001b[0margmax\u001b[0m\u001b[0;34m(\u001b[0m\u001b[0;36m1\u001b[0m\u001b[0;34m)\u001b[0m \u001b[0;34m==\u001b[0m \u001b[0my\u001b[0m\u001b[0;34m.\u001b[0m\u001b[0margmax\u001b[0m\u001b[0;34m(\u001b[0m\u001b[0;36m1\u001b[0m\u001b[0;34m)\u001b[0m\u001b[0;34m)\u001b[0m\u001b[0;34m.\u001b[0m\u001b[0mfloat\u001b[0m\u001b[0;34m(\u001b[0m\u001b[0;34m)\u001b[0m\u001b[0;34m)\u001b[0m\u001b[0;34m)\u001b[0m\u001b[0;34m\u001b[0m\u001b[0;34m\u001b[0m\u001b[0m\n",
            "\u001b[0;32m<ipython-input-8-6079eb627ba6>\u001b[0m in \u001b[0;36mtrain_step\u001b[0;34m(x, t, net, opt_fn, loss_fn)\u001b[0m\n\u001b[1;32m      4\u001b[0m     \u001b[0mloss\u001b[0m\u001b[0;34m.\u001b[0m\u001b[0mbackward\u001b[0m\u001b[0;34m(\u001b[0m\u001b[0;34m)\u001b[0m\u001b[0;34m\u001b[0m\u001b[0;34m\u001b[0m\u001b[0m\n\u001b[1;32m      5\u001b[0m     \u001b[0mopt_fn\u001b[0m\u001b[0;34m.\u001b[0m\u001b[0mstep\u001b[0m\u001b[0;34m(\u001b[0m\u001b[0;34m)\u001b[0m\u001b[0;34m\u001b[0m\u001b[0;34m\u001b[0m\u001b[0m\n\u001b[0;32m----> 6\u001b[0;31m     \u001b[0mopt_fn\u001b[0m\u001b[0;34m.\u001b[0m\u001b[0mzero_grad\u001b[0m\u001b[0;34m(\u001b[0m\u001b[0;34m)\u001b[0m\u001b[0;34m\u001b[0m\u001b[0;34m\u001b[0m\u001b[0m\n\u001b[0m\u001b[1;32m      7\u001b[0m     \u001b[0;32mreturn\u001b[0m \u001b[0mloss\u001b[0m\u001b[0;34m\u001b[0m\u001b[0;34m\u001b[0m\u001b[0m\n",
            "\u001b[0;32m/usr/local/lib/python3.6/dist-packages/torch/optim/optimizer.py\u001b[0m in \u001b[0;36mzero_grad\u001b[0;34m(self, set_to_none)\u001b[0m\n\u001b[1;32m    190\u001b[0m                         \u001b[0;32melse\u001b[0m\u001b[0;34m:\u001b[0m\u001b[0;34m\u001b[0m\u001b[0;34m\u001b[0m\u001b[0m\n\u001b[1;32m    191\u001b[0m                             \u001b[0mp\u001b[0m\u001b[0;34m.\u001b[0m\u001b[0mgrad\u001b[0m\u001b[0;34m.\u001b[0m\u001b[0mrequires_grad_\u001b[0m\u001b[0;34m(\u001b[0m\u001b[0;32mFalse\u001b[0m\u001b[0;34m)\u001b[0m\u001b[0;34m\u001b[0m\u001b[0;34m\u001b[0m\u001b[0m\n\u001b[0;32m--> 192\u001b[0;31m                         \u001b[0mp\u001b[0m\u001b[0;34m.\u001b[0m\u001b[0mgrad\u001b[0m\u001b[0;34m.\u001b[0m\u001b[0mzero_\u001b[0m\u001b[0;34m(\u001b[0m\u001b[0;34m)\u001b[0m\u001b[0;34m\u001b[0m\u001b[0;34m\u001b[0m\u001b[0m\n\u001b[0m\u001b[1;32m    193\u001b[0m \u001b[0;34m\u001b[0m\u001b[0m\n\u001b[1;32m    194\u001b[0m     \u001b[0;32mdef\u001b[0m \u001b[0mstep\u001b[0m\u001b[0;34m(\u001b[0m\u001b[0mself\u001b[0m\u001b[0;34m,\u001b[0m \u001b[0mclosure\u001b[0m\u001b[0;34m)\u001b[0m\u001b[0;34m:\u001b[0m\u001b[0;34m\u001b[0m\u001b[0;34m\u001b[0m\u001b[0m\n",
            "\u001b[0;31mKeyboardInterrupt\u001b[0m: "
          ]
        }
      ]
    },
    {
      "cell_type": "code",
      "metadata": {
        "colab": {
          "base_uri": "https://localhost:8080/",
          "height": 282
        },
        "id": "4FQUtCfGUdOX",
        "outputId": "799f4c74-85e7-4e0b-ab76-e664e8a6ab5d"
      },
      "source": [
        "plt.plot(acc_hist_train)\n",
        "plt.plot(acc_hist_test)\n"
      ],
      "execution_count": 15,
      "outputs": [
        {
          "output_type": "execute_result",
          "data": {
            "text/plain": [
              "[<matplotlib.lines.Line2D at 0x7f7cb858c198>]"
            ]
          },
          "metadata": {
            "tags": []
          },
          "execution_count": 15
        },
        {
          "output_type": "display_data",
          "data": {
            "image/png": "[encoded data removed]",
            "text/plain": [
              "<Figure size 432x288 with 1 Axes>"
            ]
          },
          "metadata": {
            "tags": [],
            "needs_background": "light"
          }
        }
      ]
    },
    {
      "cell_type": "code",
      "metadata": {
        "id": "7XEB_pxlIrWI"
      },
      "source": [
        ""
      ],
      "execution_count": null,
      "outputs": []
    }
  ]
}