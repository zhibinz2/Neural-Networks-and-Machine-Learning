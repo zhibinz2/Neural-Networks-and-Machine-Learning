{
  "nbformat": 4,
  "nbformat_minor": 0,
  "metadata": {
    "colab": {
      "name": "ZHIBIN_Final_Project_7_cnn_mnist.ipynb",
      "provenance": [],
      "collapsed_sections": [],
      "authorship_tag": "ABX9TyNtD8ghqw4gAnLZvsM/WbIZ",
      "include_colab_link": true
    },
    "kernelspec": {
      "name": "python3",
      "display_name": "Python 3"
    },
    "accelerator": "GPU"
  },
  "cells": [
    {
      "cell_type": "markdown",
      "metadata": {
        "id": "view-in-github",
        "colab_type": "text"
      },
      "source": [
        "<a href=\"https://colab.research.google.com/github/zhibinz2/Neural-Networks-and-Machine-Learning/blob/master/ZHIBIN_Final_Project_7_cnn_mnist.ipynb\" target=\"_parent\"><img src=\"https://colab.research.google.com/assets/colab-badge.svg\" alt=\"Open In Colab\"/></a>"
      ]
    },
    {
      "cell_type": "code",
      "metadata": {
        "id": "jYAzTj0i3oqV"
      },
      "source": [
        "# set up\r\n",
        "import tqdm\r\n",
        "\r\n",
        "import torch\r\n",
        "from torch import optim\r\n",
        "from torch import nn\r\n",
        "\r\n",
        "\r\n",
        "import torchvision\r\n",
        "from torchvision import datasets, transforms\r\n",
        "import torchvision.transforms as transforms\r\n",
        "from torchvision import models, transforms\r\n",
        "from torch.autograd import Variable\r\n",
        "\r\n",
        "import pandas as pd\r\n",
        "from PIL import Image\r\n",
        "import requests\r\n",
        "import io\r\n",
        "import random, time, sys\r\n",
        "from collections import namedtuple\r\n",
        "\r\n",
        "import matplotlib.pyplot as plt"
      ],
      "execution_count": 11,
      "outputs": []
    },
    {
      "cell_type": "code",
      "metadata": {
        "colab": {
          "base_uri": "https://localhost:8080/"
        },
        "id": "7EJq4p_22RZF",
        "outputId": "11aee6fe-61b7-4b3d-a8e6-52f9776afc04"
      },
      "source": [
        "# load data from GitHub\r\n",
        "import numpy as np\r\n",
        "!wget https://github.com/zhibinz2/Neural-Networks-and-Machine-Learning/raw/master/data.npy\r\n",
        "data=np.load('data.npy')"
      ],
      "execution_count": 12,
      "outputs": [
        {
          "output_type": "stream",
          "text": [
            "--2020-12-08 20:11:20--  https://github.com/zhibinz2/Neural-Networks-and-Machine-Learning/raw/master/data.npy\n",
            "Resolving github.com (github.com)... 192.30.255.112\n",
            "Connecting to github.com (github.com)|192.30.255.112|:443... connected.\n",
            "HTTP request sent, awaiting response... 302 Found\n",
            "Location: https://raw.githubusercontent.com/zhibinz2/Neural-Networks-and-Machine-Learning/master/data.npy [following]\n",
            "--2020-12-08 20:11:20--  https://raw.githubusercontent.com/zhibinz2/Neural-Networks-and-Machine-Learning/master/data.npy\n",
            "Resolving raw.githubusercontent.com (raw.githubusercontent.com)... 151.101.0.133, 151.101.64.133, 151.101.128.133, ...\n",
            "Connecting to raw.githubusercontent.com (raw.githubusercontent.com)|151.101.0.133|:443... connected.\n",
            "HTTP request sent, awaiting response... 200 OK\n",
            "Length: 14851328 (14M) [application/octet-stream]\n",
            "Saving to: ‘data.npy’\n",
            "\n",
            "data.npy            100%[===================>]  14.16M  61.6MB/s    in 0.2s    \n",
            "\n",
            "2020-12-08 20:11:20 (61.6 MB/s) - ‘data.npy’ saved [14851328/14851328]\n",
            "\n"
          ],
          "name": "stdout"
        }
      ]
    },
    {
      "cell_type": "code",
      "metadata": {
        "id": "pAkjyNGW3ktD"
      },
      "source": [
        "# prepare the data to load into dataloader\r\n",
        "\r\n",
        "import cv2\r\n",
        "# resize matrices into 28 by 28 (for convolutional network only)\r\n",
        "resize=np.zeros([400,28,28])\r\n",
        "for j in np.array(range(400)):\r\n",
        "    img=data[j,:,:]\r\n",
        "    dim = (28, 28)\r\n",
        "    resize[j,:,:] = cv2.resize(img, dim, interpolation = cv2.INTER_AREA)\r\n",
        "    \r\n",
        "data=resize\r\n",
        "\r\n",
        "# Add one dimension\r\n",
        "data=np.expand_dims(data, axis=1)"
      ],
      "execution_count": 13,
      "outputs": []
    },
    {
      "cell_type": "code",
      "metadata": {
        "id": "g-9xzmRX4CxC"
      },
      "source": [
        "# select train_data and test_data\r\n",
        "\r\n",
        "idx1=20\r\n",
        "idx2=398\r\n",
        "\r\n",
        "train_data=data[idx1:idx2,:,:]\r\n",
        "test_data=np.concatenate((data[0:idx1,:,:],data[idx2:400,:,:]),axis=0)"
      ],
      "execution_count": 14,
      "outputs": []
    },
    {
      "cell_type": "code",
      "metadata": {
        "colab": {
          "base_uri": "https://localhost:8080/"
        },
        "id": "tSDLBV6d4m18",
        "outputId": "84a0d843-d101-4ba2-84e3-ef011bfa8133"
      },
      "source": [
        "# load the targets from GitHub (for convolutional network only)\r\n",
        "import numpy as np\r\n",
        "!wget https://github.com/zhibinz2/Neural-Networks-and-Machine-Learning/raw/master/targets.npy\r\n",
        "targets=np.load('targets.npy')"
      ],
      "execution_count": 15,
      "outputs": [
        {
          "output_type": "stream",
          "text": [
            "--2020-12-08 20:11:27--  https://github.com/zhibinz2/Neural-Networks-and-Machine-Learning/raw/master/targets.npy\n",
            "Resolving github.com (github.com)... 192.30.255.112\n",
            "Connecting to github.com (github.com)|192.30.255.112|:443... connected.\n",
            "HTTP request sent, awaiting response... 302 Found\n",
            "Location: https://raw.githubusercontent.com/zhibinz2/Neural-Networks-and-Machine-Learning/master/targets.npy [following]\n",
            "--2020-12-08 20:11:27--  https://raw.githubusercontent.com/zhibinz2/Neural-Networks-and-Machine-Learning/master/targets.npy\n",
            "Resolving raw.githubusercontent.com (raw.githubusercontent.com)... 151.101.0.133, 151.101.64.133, 151.101.128.133, ...\n",
            "Connecting to raw.githubusercontent.com (raw.githubusercontent.com)|151.101.0.133|:443... connected.\n",
            "HTTP request sent, awaiting response... 200 OK\n",
            "Length: 3328 (3.2K) [application/octet-stream]\n",
            "Saving to: ‘targets.npy’\n",
            "\n",
            "targets.npy         100%[===================>]   3.25K  --.-KB/s    in 0s      \n",
            "\n",
            "2020-12-08 20:11:27 (59.5 MB/s) - ‘targets.npy’ saved [3328/3328]\n",
            "\n"
          ],
          "name": "stdout"
        }
      ]
    },
    {
      "cell_type": "code",
      "metadata": {
        "id": "MSeC8d2N9JeX"
      },
      "source": [
        "# select train_target and test_target\r\n",
        "train_targets=targets[idx1:idx2]\r\n",
        "test_targets=np.concatenate((targets[0:idx1],targets[idx2:400]),axis=0)"
      ],
      "execution_count": 16,
      "outputs": []
    },
    {
      "cell_type": "code",
      "metadata": {
        "id": "vabxTKhq9XYF"
      },
      "source": [
        "# data loader\r\n",
        "from torch.utils.data import Dataset\r\n",
        "class MyTrainingDataset(Dataset):\r\n",
        "    def __init__(self, root, transform=None, target_transform=None):\r\n",
        "        self.root=root\r\n",
        "        self.transform=transform\r\n",
        "        self.target_transform=target_transform\r\n",
        "        self.data=np.load(self.root[0])\r\n",
        "        self.targets=np.load(self.root[1])\r\n",
        "        \r\n",
        "    def __len__(self):\r\n",
        "        return len(self.data)\r\n",
        " \r\n",
        "    def __getitem__(self, idx):\r\n",
        "        sample=self.data[idx] \r\n",
        "        target=self.targets[idx]\r\n",
        "        \r\n",
        "        if self.transform:\r\n",
        "            sample=self.transform(sample)\r\n",
        "        if self.target_transform:\r\n",
        "            target=self.target_transform(target)\r\n",
        "            \r\n",
        "        return sample, target\r\n",
        "\r\n",
        "np.save('train_data.npy',train_data)\r\n",
        "np.save('train_targets.npy',train_targets)\r\n",
        "train_set=MyTrainingDataset(root=['train_data.npy', 'train_targets.npy'])\r\n",
        "\r\n",
        "np.save('test_data.npy',test_data)\r\n",
        "np.save('test_targets.npy',test_targets)\r\n",
        "test_set=MyTrainingDataset(root=['test_data.npy', 'test_targets.npy'])"
      ],
      "execution_count": 22,
      "outputs": []
    },
    {
      "cell_type": "code",
      "metadata": {
        "id": "UMRTGoeU9f2l"
      },
      "source": [
        "# set batch size and load into the dataloader\r\n",
        "batch=1\r\n",
        "train_loader = torch.utils.data.DataLoader(train_set, batch_size=batch, shuffle=True)\r\n",
        "test_loader = torch.utils.data.DataLoader(test_set, batch_size=batch, shuffle=False)"
      ],
      "execution_count": 23,
      "outputs": []
    },
    {
      "cell_type": "code",
      "metadata": {
        "id": "FsCWYwXM-F0N"
      },
      "source": [
        "# 7_cnn_mnist.ipynb\r\n",
        "\r\n",
        "class LeNet(torch.nn.Module):\r\n",
        "    def __init__(self):\r\n",
        "        super(LeNet, self).__init__()\r\n",
        "        self.conv1 = torch.nn.Conv2d(1, 32, 3, 1)\r\n",
        "        self.conv2 = torch.nn.Conv2d(32, 64, 3, 1)\r\n",
        "        self.dropout1 = torch.nn.Dropout2d(0.25)\r\n",
        "        self.dropout2 = torch.nn.Dropout2d(0.5)\r\n",
        "        self.pool2 = torch.nn.MaxPool2d((2,2),(2,2))\r\n",
        "        self.fc1 = torch.nn.Linear(9216, 128)\r\n",
        "        self.fc2 = torch.nn.Linear(128, 2)\r\n",
        "    def forward(self, x):\r\n",
        "        x = self.conv1(x)\r\n",
        "        x = torch.relu(x)\r\n",
        "        x = self.conv2(x)\r\n",
        "        x = self.pool2(x)\r\n",
        "        x = torch.relu(x)\r\n",
        "        x = self.dropout1(x)\r\n",
        "        x = torch.flatten(x, 1)\r\n",
        "        x = self.fc1(x)\r\n",
        "        x = torch.relu(x)\r\n",
        "        x = self.dropout2(x)\r\n",
        "        x = self.fc2(x)\r\n",
        "        return x\r\n",
        "\r\n",
        "net = LeNet().cuda()"
      ],
      "execution_count": 24,
      "outputs": []
    },
    {
      "cell_type": "code",
      "metadata": {
        "id": "t1WSMqL--LIN"
      },
      "source": [
        "mse_loss = torch.nn.CrossEntropyLoss()\r\n",
        "opt = torch.optim.Adam(net.parameters(), lr=1e-3)"
      ],
      "execution_count": 28,
      "outputs": []
    },
    {
      "cell_type": "code",
      "metadata": {
        "id": "RjZcQ-4T-NWU"
      },
      "source": [
        "def train_step(x, t, net, opt_fn, loss_fn):\r\n",
        "    y = net(x.cuda())\r\n",
        "    loss = loss_fn(y, t.cuda())\r\n",
        "    loss.backward()\r\n",
        "    opt_fn.step()\r\n",
        "    opt_fn.zero_grad()\r\n",
        "    return loss"
      ],
      "execution_count": 29,
      "outputs": []
    },
    {
      "cell_type": "code",
      "metadata": {
        "id": "aYjCMIJw-PQW"
      },
      "source": [
        "x,t = next(iter(train_loader))"
      ],
      "execution_count": 30,
      "outputs": []
    },
    {
      "cell_type": "code",
      "metadata": {
        "colab": {
          "base_uri": "https://localhost:8080/"
        },
        "id": "lpXYXZA1_FxE",
        "outputId": "5a9f5cc4-92ba-410a-cad1-d20fefb5d09c"
      },
      "source": [
        "train_step(x.float().cuda(), t.long().cuda(), net, opt, mse_loss)"
      ],
      "execution_count": 31,
      "outputs": [
        {
          "output_type": "execute_result",
          "data": {
            "text/plain": [
              "tensor(0.7518, device='cuda:0', grad_fn=<NllLossBackward>)"
            ]
          },
          "metadata": {
            "tags": []
          },
          "execution_count": 31
        }
      ]
    },
    {
      "cell_type": "code",
      "metadata": {
        "id": "oYza0BQ9_Jm8"
      },
      "source": [
        "# Make prediction\r\n",
        "for x,t in iter(test_loader):   \r\n",
        "    y = net(x.float().cuda()).cpu()"
      ],
      "execution_count": 32,
      "outputs": []
    },
    {
      "cell_type": "code",
      "metadata": {
        "colab": {
          "base_uri": "https://localhost:8080/"
        },
        "id": "3ydKICbl_NxF",
        "outputId": "a577057c-b9eb-4b6a-da4c-8118b7592fd2"
      },
      "source": [
        "# Calculate accuracy\r\n",
        "torch.mean((t == y.argmax(1)).float())"
      ],
      "execution_count": 33,
      "outputs": [
        {
          "output_type": "execute_result",
          "data": {
            "text/plain": [
              "tensor(1.)"
            ]
          },
          "metadata": {
            "tags": []
          },
          "execution_count": 33
        }
      ]
    },
    {
      "cell_type": "code",
      "metadata": {
        "colab": {
          "base_uri": "https://localhost:8080/"
        },
        "id": "S6MWLOay_Riy",
        "outputId": "cd2a0d4f-70cc-472f-ba9c-d6e35461473f"
      },
      "source": [
        "# Train the network over multiple epochs\r\n",
        "acc_hist_train = []\r\n",
        "acc_hist_test = []\r\n",
        "for epoch in range(5):\r\n",
        "    acc_batch = []\r\n",
        "    for x,t in iter(train_loader):   \r\n",
        "        loss_ = train_step(x.float(), t.long(), net, opt, mse_loss)\r\n",
        "        y = net(x.float().cuda()).cpu()\r\n",
        "        acc_batch.append(torch.mean((t == y.argmax(1)).float()))\r\n",
        "    acc_hist_train.append(torch.mean(torch.FloatTensor(acc_batch)))   \r\n",
        "    print(loss_)\r\n",
        "\r\n",
        "    acc_batch = []\r\n",
        "    for x,t in iter(test_loader):   \r\n",
        "        y = net(x.float().cuda()).cpu()\r\n",
        "        acc_batch.append(torch.mean((t == y.argmax(1)).float()))\r\n",
        "    acc_hist_test.append(torch.mean(torch.FloatTensor(acc_batch)))  "
      ],
      "execution_count": 34,
      "outputs": [
        {
          "output_type": "stream",
          "text": [
            "tensor(0.7001, device='cuda:0', grad_fn=<NllLossBackward>)\n",
            "tensor(0.7035, device='cuda:0', grad_fn=<NllLossBackward>)\n",
            "tensor(0.7065, device='cuda:0', grad_fn=<NllLossBackward>)\n",
            "tensor(0.6633, device='cuda:0', grad_fn=<NllLossBackward>)\n",
            "tensor(0.7312, device='cuda:0', grad_fn=<NllLossBackward>)\n"
          ],
          "name": "stdout"
        }
      ]
    },
    {
      "cell_type": "code",
      "metadata": {
        "colab": {
          "base_uri": "https://localhost:8080/"
        },
        "id": "OVm-BnCj_WC-",
        "outputId": "6d0632a8-820e-468d-9631-4bea1ff491a8"
      },
      "source": [
        "acc_hist_train"
      ],
      "execution_count": 35,
      "outputs": [
        {
          "output_type": "execute_result",
          "data": {
            "text/plain": [
              "[tensor(0.4471),\n",
              " tensor(0.4656),\n",
              " tensor(0.5159),\n",
              " tensor(0.5238),\n",
              " tensor(0.5238)]"
            ]
          },
          "metadata": {
            "tags": []
          },
          "execution_count": 35
        }
      ]
    },
    {
      "cell_type": "code",
      "metadata": {
        "colab": {
          "base_uri": "https://localhost:8080/"
        },
        "id": "ZJ3r0G7n_YW1",
        "outputId": "a6d7776e-894d-4cb7-ef78-0759e443634d"
      },
      "source": [
        "acc_hist_test"
      ],
      "execution_count": 36,
      "outputs": [
        {
          "output_type": "execute_result",
          "data": {
            "text/plain": [
              "[tensor(0.8636),\n",
              " tensor(0.7727),\n",
              " tensor(0.0909),\n",
              " tensor(0.0909),\n",
              " tensor(0.0909)]"
            ]
          },
          "metadata": {
            "tags": []
          },
          "execution_count": 36
        }
      ]
    },
    {
      "cell_type": "code",
      "metadata": {
        "colab": {
          "base_uri": "https://localhost:8080/",
          "height": 286
        },
        "id": "dSgAdzqd_du4",
        "outputId": "1c1e3656-5f83-4b45-a737-dbcf636bf7b8"
      },
      "source": [
        "import pylab as plt\r\n",
        "plt.plot(range(len(acc_hist_train)), acc_hist_train)\r\n",
        "plt.plot(range(len(acc_hist_test)), acc_hist_test)"
      ],
      "execution_count": 37,
      "outputs": [
        {
          "output_type": "execute_result",
          "data": {
            "text/plain": [
              "[<matplotlib.lines.Line2D at 0x7f5a01b8da20>]"
            ]
          },
          "metadata": {
            "tags": []
          },
          "execution_count": 37
        },
        {
          "output_type": "display_data",
          "data": {
            "image/png": "[encoded data removed]",
            "text/plain": [
              "<Figure size 432x288 with 1 Axes>"
            ]
          },
          "metadata": {
            "tags": [],
            "needs_background": "light"
          }
        }
      ]
    },
    {
      "cell_type": "code",
      "metadata": {
        "colab": {
          "base_uri": "https://localhost:8080/"
        },
        "id": "mJaQqSLr_kD3",
        "outputId": "170d6054-4448-44bd-9d73-0b25535e3ee3"
      },
      "source": [
        "# We can plot the kernels learned by the CNN\r\n",
        "net.conv1 #This is the first convolutional layer"
      ],
      "execution_count": 38,
      "outputs": [
        {
          "output_type": "execute_result",
          "data": {
            "text/plain": [
              "Conv2d(1, 32, kernel_size=(3, 3), stride=(1, 1))"
            ]
          },
          "metadata": {
            "tags": []
          },
          "execution_count": 38
        }
      ]
    },
    {
      "cell_type": "code",
      "metadata": {
        "colab": {
          "base_uri": "https://localhost:8080/",
          "height": 1000
        },
        "id": "JiI8lz_0_mQz",
        "outputId": "675702dc-b790-440b-cab3-dc828132ac3e"
      },
      "source": [
        "import pylab\r\n",
        "for i in range(10):\r\n",
        "    pylab.figure();\r\n",
        "    pylab.imshow(net.conv1.weight.data[i].cpu().detach().view(3,3))"
      ],
      "execution_count": 39,
      "outputs": [
        {
          "output_type": "display_data",
          "data": {
            "image/png": "[encoded data removed]",
            "text/plain": [
              "<Figure size 432x288 with 1 Axes>"
            ]
          },
          "metadata": {
            "tags": [],
            "needs_background": "light"
          }
        },
        {
          "output_type": "display_data",
          "data": {
            "image/png": "[encoded data removed]",
            "text/plain": [
              "<Figure size 432x288 with 1 Axes>"
            ]
          },
          "metadata": {
            "tags": [],
            "needs_background": "light"
          }
        },
        {
          "output_type": "display_data",
          "data": {
            "image/png": "[encoded data removed]",
            "text/plain": [
              "<Figure size 432x288 with 1 Axes>"
            ]
          },
          "metadata": {
            "tags": [],
            "needs_background": "light"
          }
        },
        {
          "output_type": "display_data",
          "data": {
            "image/png": "[encoded data removed]",
            "text/plain": [
              "<Figure size 432x288 with 1 Axes>"
            ]
          },
          "metadata": {
            "tags": [],
            "needs_background": "light"
          }
        },
        {
          "output_type": "display_data",
          "data": {
            "image/png": "[encoded data removed]",
            "text/plain": [
              "<Figure size 432x288 with 1 Axes>"
            ]
          },
          "metadata": {
            "tags": [],
            "needs_background": "light"
          }
        },
        {
          "output_type": "display_data",
          "data": {
            "image/png": "[encoded data removed]",
            "text/plain": [
              "<Figure size 432x288 with 1 Axes>"
            ]
          },
          "metadata": {
            "tags": [],
            "needs_background": "light"
          }
        },
        {
          "output_type": "display_data",
          "data": {
            "image/png": "[encoded data removed]",
            "text/plain": [
              "<Figure size 432x288 with 1 Axes>"
            ]
          },
          "metadata": {
            "tags": [],
            "needs_background": "light"
          }
        },
        {
          "output_type": "display_data",
          "data": {
            "image/png": "[encoded data removed]",
            "text/plain": [
              "<Figure size 432x288 with 1 Axes>"
            ]
          },
          "metadata": {
            "tags": [],
            "needs_background": "light"
          }
        },
        {
          "output_type": "display_data",
          "data": {
            "image/png": "[encoded data removed]",
            "text/plain": [
              "<Figure size 432x288 with 1 Axes>"
            ]
          },
          "metadata": {
            "tags": [],
            "needs_background": "light"
          }
        },
        {
          "output_type": "display_data",
          "data": {
            "image/png": "[encoded data removed]",
            "text/plain": [
              "<Figure size 432x288 with 1 Axes>"
            ]
          },
          "metadata": {
            "tags": [],
            "needs_background": "light"
          }
        }
      ]
    }
  ]
}