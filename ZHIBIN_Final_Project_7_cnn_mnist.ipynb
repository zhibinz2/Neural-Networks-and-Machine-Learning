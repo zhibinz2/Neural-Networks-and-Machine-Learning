{
  "nbformat": 4,
  "nbformat_minor": 0,
  "metadata": {
    "colab": {
      "name": "ZHIBIN_Final_Project_7_cnn_mnist.ipynb",
      "provenance": [],
      "collapsed_sections": [],
      "include_colab_link": true
    },
    "kernelspec": {
      "name": "python3",
      "display_name": "Python 3"
    },
    "accelerator": "GPU"
  },
  "cells": [
    {
      "cell_type": "markdown",
      "metadata": {
        "id": "view-in-github",
        "colab_type": "text"
      },
      "source": [
        "<a href=\"https://colab.research.google.com/github/zhibinz2/Neural-Networks-and-Machine-Learning/blob/master/ZHIBIN_Final_Project_7_cnn_mnist.ipynb\" target=\"_parent\"><img src=\"https://colab.research.google.com/assets/colab-badge.svg\" alt=\"Open In Colab\"/></a>"
      ]
    },
    {
      "cell_type": "code",
      "metadata": {
        "id": "jYAzTj0i3oqV"
      },
      "source": [
        "# set up\r\n",
        "import tqdm\r\n",
        "\r\n",
        "import torch\r\n",
        "from torch import optim\r\n",
        "from torch import nn\r\n",
        "\r\n",
        "\r\n",
        "import torchvision\r\n",
        "from torchvision import datasets, transforms\r\n",
        "import torchvision.transforms as transforms\r\n",
        "from torchvision import models, transforms\r\n",
        "from torch.autograd import Variable\r\n",
        "\r\n",
        "import pandas as pd\r\n",
        "from PIL import Image\r\n",
        "import requests\r\n",
        "import io\r\n",
        "import random, time, sys\r\n",
        "from collections import namedtuple\r\n",
        "\r\n",
        "import matplotlib.pyplot as plt"
      ],
      "execution_count": 1,
      "outputs": []
    },
    {
      "cell_type": "code",
      "metadata": {
        "colab": {
          "base_uri": "https://localhost:8080/"
        },
        "id": "7EJq4p_22RZF",
        "outputId": "c1f60d69-d682-46d0-c176-ba33d26ec6a1"
      },
      "source": [
        "# load data from GitHub\r\n",
        "import numpy as np\r\n",
        "!wget https://github.com/zhibinz2/Neural-Networks-and-Machine-Learning/raw/master/AwakeSamples.npy\r\n",
        "AwakeSamples=np.load('AwakeSamples.npy')\r\n",
        "!wget https://github.com/zhibinz2/Neural-Networks-and-Machine-Learning/raw/master/SedatedSamples.npy\r\n",
        "SedatedSamples=np.load('SedatedSamples.npy')"
      ],
      "execution_count": 2,
      "outputs": [
        {
          "output_type": "stream",
          "text": [
            "--2020-12-09 07:05:38--  https://github.com/zhibinz2/Neural-Networks-and-Machine-Learning/raw/master/AwakeSamples.npy\n",
            "Resolving github.com (github.com)... 192.30.255.112\n",
            "Connecting to github.com (github.com)|192.30.255.112|:443... connected.\n",
            "HTTP request sent, awaiting response... 302 Found\n",
            "Location: https://raw.githubusercontent.com/zhibinz2/Neural-Networks-and-Machine-Learning/master/AwakeSamples.npy [following]\n",
            "--2020-12-09 07:05:39--  https://raw.githubusercontent.com/zhibinz2/Neural-Networks-and-Machine-Learning/master/AwakeSamples.npy\n",
            "Resolving raw.githubusercontent.com (raw.githubusercontent.com)... 151.101.0.133, 151.101.64.133, 151.101.128.133, ...\n",
            "Connecting to raw.githubusercontent.com (raw.githubusercontent.com)|151.101.0.133|:443... connected.\n",
            "HTTP request sent, awaiting response... 200 OK\n",
            "Length: 13249728 (13M) [application/octet-stream]\n",
            "Saving to: ‘AwakeSamples.npy’\n",
            "\n",
            "AwakeSamples.npy    100%[===================>]  12.64M  64.5MB/s    in 0.2s    \n",
            "\n",
            "2020-12-09 07:05:39 (64.5 MB/s) - ‘AwakeSamples.npy’ saved [13249728/13249728]\n",
            "\n",
            "--2020-12-09 07:05:39--  https://github.com/zhibinz2/Neural-Networks-and-Machine-Learning/raw/master/SedatedSamples.npy\n",
            "Resolving github.com (github.com)... 192.30.255.113\n",
            "Connecting to github.com (github.com)|192.30.255.113|:443... connected.\n",
            "HTTP request sent, awaiting response... 302 Found\n",
            "Location: https://raw.githubusercontent.com/zhibinz2/Neural-Networks-and-Machine-Learning/master/SedatedSamples.npy [following]\n",
            "--2020-12-09 07:05:39--  https://raw.githubusercontent.com/zhibinz2/Neural-Networks-and-Machine-Learning/master/SedatedSamples.npy\n",
            "Resolving raw.githubusercontent.com (raw.githubusercontent.com)... 151.101.0.133, 151.101.64.133, 151.101.128.133, ...\n",
            "Connecting to raw.githubusercontent.com (raw.githubusercontent.com)|151.101.0.133|:443... connected.\n",
            "HTTP request sent, awaiting response... 200 OK\n",
            "Length: 13249728 (13M) [application/octet-stream]\n",
            "Saving to: ‘SedatedSamples.npy’\n",
            "\n",
            "SedatedSamples.npy  100%[===================>]  12.64M  83.2MB/s    in 0.2s    \n",
            "\n",
            "2020-12-09 07:05:40 (83.2 MB/s) - ‘SedatedSamples.npy’ saved [13249728/13249728]\n",
            "\n"
          ],
          "name": "stdout"
        }
      ]
    },
    {
      "cell_type": "code",
      "metadata": {
        "id": "z7UxeXrIUicO"
      },
      "source": [
        "# Conbine two categories of samples into data\r\n",
        "data=np.concatenate((AwakeSamples,SedatedSamples),axis=0)"
      ],
      "execution_count": 3,
      "outputs": []
    },
    {
      "cell_type": "code",
      "metadata": {
        "id": "pAkjyNGW3ktD"
      },
      "source": [
        "# prepare the data to load into dataloader\r\n",
        "\r\n",
        "import cv2\r\n",
        "# resize matrices into 28 by 28 (for convolutional network only)\r\n",
        "resize=np.zeros([400,28,28])\r\n",
        "for j in np.array(range(400)):\r\n",
        "    img=data[j,:,:]\r\n",
        "    dim = (28, 28)\r\n",
        "    resize[j,:,:] = cv2.resize(img, dim, interpolation = cv2.INTER_AREA)\r\n",
        "    \r\n",
        "data=resize\r\n",
        "\r\n",
        "# Add one dimension\r\n",
        "data=np.expand_dims(data, axis=1)"
      ],
      "execution_count": 4,
      "outputs": []
    },
    {
      "cell_type": "code",
      "metadata": {
        "id": "g-9xzmRX4CxC"
      },
      "source": [
        "# select train_data and test_data\r\n",
        "\r\n",
        "idx1=20\r\n",
        "idx2=380\r\n",
        "\r\n",
        "train_data=data[idx1:idx2,:,:]\r\n",
        "test_data=np.concatenate((data[0:idx1,:,:],data[idx2:400,:,:]),axis=0)"
      ],
      "execution_count": 5,
      "outputs": []
    },
    {
      "cell_type": "code",
      "metadata": {
        "colab": {
          "base_uri": "https://localhost:8080/"
        },
        "id": "tSDLBV6d4m18",
        "outputId": "c311d59e-b103-44b7-ee98-bf00c3fec51a"
      },
      "source": [
        "# load the targets from GitHub (for convolutional network only)\r\n",
        "import numpy as np\r\n",
        "!wget https://github.com/zhibinz2/Neural-Networks-and-Machine-Learning/raw/master/targets.npy\r\n",
        "targets=np.load('targets.npy')"
      ],
      "execution_count": 6,
      "outputs": [
        {
          "output_type": "stream",
          "text": [
            "--2020-12-09 07:06:30--  https://github.com/zhibinz2/Neural-Networks-and-Machine-Learning/raw/master/targets.npy\n",
            "Resolving github.com (github.com)... 192.30.255.112\n",
            "Connecting to github.com (github.com)|192.30.255.112|:443... connected.\n",
            "HTTP request sent, awaiting response... 302 Found\n",
            "Location: https://raw.githubusercontent.com/zhibinz2/Neural-Networks-and-Machine-Learning/master/targets.npy [following]\n",
            "--2020-12-09 07:06:30--  https://raw.githubusercontent.com/zhibinz2/Neural-Networks-and-Machine-Learning/master/targets.npy\n",
            "Resolving raw.githubusercontent.com (raw.githubusercontent.com)... 151.101.0.133, 151.101.64.133, 151.101.128.133, ...\n",
            "Connecting to raw.githubusercontent.com (raw.githubusercontent.com)|151.101.0.133|:443... connected.\n",
            "HTTP request sent, awaiting response... 200 OK\n",
            "Length: 3328 (3.2K) [application/octet-stream]\n",
            "Saving to: ‘targets.npy’\n",
            "\n",
            "targets.npy         100%[===================>]   3.25K  --.-KB/s    in 0s      \n",
            "\n",
            "2020-12-09 07:06:30 (62.8 MB/s) - ‘targets.npy’ saved [3328/3328]\n",
            "\n"
          ],
          "name": "stdout"
        }
      ]
    },
    {
      "cell_type": "code",
      "metadata": {
        "id": "MSeC8d2N9JeX"
      },
      "source": [
        "# select train_target and test_target\r\n",
        "train_targets=targets[idx1:idx2]\r\n",
        "test_targets=np.concatenate((targets[0:idx1],targets[idx2:400]),axis=0)"
      ],
      "execution_count": 7,
      "outputs": []
    },
    {
      "cell_type": "code",
      "metadata": {
        "id": "vabxTKhq9XYF"
      },
      "source": [
        "# data loader\r\n",
        "from torch.utils.data import Dataset\r\n",
        "class MyTrainingDataset(Dataset):\r\n",
        "    def __init__(self, root, transform=None, target_transform=None):\r\n",
        "        self.root=root\r\n",
        "        self.transform=transform\r\n",
        "        self.target_transform=target_transform\r\n",
        "        self.data=np.load(self.root[0])\r\n",
        "        self.targets=np.load(self.root[1])\r\n",
        "        \r\n",
        "    def __len__(self):\r\n",
        "        return len(self.data)\r\n",
        " \r\n",
        "    def __getitem__(self, idx):\r\n",
        "        sample=self.data[idx] \r\n",
        "        target=self.targets[idx]\r\n",
        "        \r\n",
        "        if self.transform:\r\n",
        "            sample=self.transform(sample)\r\n",
        "        if self.target_transform:\r\n",
        "            target=self.target_transform(target)\r\n",
        "            \r\n",
        "        return sample, target\r\n",
        "\r\n",
        "np.save('train_data.npy',train_data)\r\n",
        "np.save('train_targets.npy',train_targets)\r\n",
        "train_set=MyTrainingDataset(root=['train_data.npy', 'train_targets.npy'])\r\n",
        "\r\n",
        "np.save('test_data.npy',test_data)\r\n",
        "np.save('test_targets.npy',test_targets)\r\n",
        "test_set=MyTrainingDataset(root=['test_data.npy', 'test_targets.npy'])"
      ],
      "execution_count": 9,
      "outputs": []
    },
    {
      "cell_type": "code",
      "metadata": {
        "id": "UMRTGoeU9f2l"
      },
      "source": [
        "# set batch size and load into the dataloader\r\n",
        "batch=40\r\n",
        "train_loader = torch.utils.data.DataLoader(train_set, batch_size=batch, shuffle=True)\r\n",
        "test_loader = torch.utils.data.DataLoader(test_set, batch_size=batch, shuffle=False)"
      ],
      "execution_count": 10,
      "outputs": []
    },
    {
      "cell_type": "code",
      "metadata": {
        "id": "FsCWYwXM-F0N"
      },
      "source": [
        "# 7_cnn_mnist.ipynb\r\n",
        "\r\n",
        "class LeNet(torch.nn.Module):\r\n",
        "    def __init__(self):\r\n",
        "        super(LeNet, self).__init__()\r\n",
        "        self.conv1 = torch.nn.Conv2d(1, 32, 3, 1)\r\n",
        "        self.conv2 = torch.nn.Conv2d(32, 64, 3, 1)\r\n",
        "        self.dropout1 = torch.nn.Dropout2d(0.25)\r\n",
        "        self.dropout2 = torch.nn.Dropout2d(0.5)\r\n",
        "        self.pool2 = torch.nn.MaxPool2d((2,2),(2,2))\r\n",
        "        self.fc1 = torch.nn.Linear(9216, 128)\r\n",
        "        self.fc2 = torch.nn.Linear(128, 2)\r\n",
        "    def forward(self, x):\r\n",
        "        x = self.conv1(x)\r\n",
        "        x = torch.relu(x)\r\n",
        "        x = self.conv2(x)\r\n",
        "        x = self.pool2(x)\r\n",
        "        x = torch.relu(x)\r\n",
        "        x = self.dropout1(x)\r\n",
        "        x = torch.flatten(x, 1)\r\n",
        "        x = self.fc1(x)\r\n",
        "        x = torch.relu(x)\r\n",
        "        x = self.dropout2(x)\r\n",
        "        x = self.fc2(x)\r\n",
        "        return x\r\n",
        "\r\n",
        "net = LeNet().cuda()"
      ],
      "execution_count": 11,
      "outputs": []
    },
    {
      "cell_type": "code",
      "metadata": {
        "id": "t1WSMqL--LIN"
      },
      "source": [
        "mse_loss = torch.nn.CrossEntropyLoss()\r\n",
        "opt = torch.optim.Adam(net.parameters(), lr=1e-3)"
      ],
      "execution_count": 12,
      "outputs": []
    },
    {
      "cell_type": "code",
      "metadata": {
        "id": "RjZcQ-4T-NWU"
      },
      "source": [
        "def train_step(x, t, net, opt_fn, loss_fn):\r\n",
        "    y = net(x.cuda())\r\n",
        "    loss = loss_fn(y, t.cuda())\r\n",
        "    loss.backward()\r\n",
        "    opt_fn.step()\r\n",
        "    opt_fn.zero_grad()\r\n",
        "    return loss"
      ],
      "execution_count": 13,
      "outputs": []
    },
    {
      "cell_type": "code",
      "metadata": {
        "id": "aYjCMIJw-PQW"
      },
      "source": [
        "x,t = next(iter(train_loader))"
      ],
      "execution_count": 14,
      "outputs": []
    },
    {
      "cell_type": "code",
      "metadata": {
        "colab": {
          "base_uri": "https://localhost:8080/"
        },
        "id": "lpXYXZA1_FxE",
        "outputId": "ca5fdc37-7220-4f79-f118-11ce16aa9b4b"
      },
      "source": [
        "train_step(x.float().cuda(), t.long().cuda(), net, opt, mse_loss)"
      ],
      "execution_count": 15,
      "outputs": [
        {
          "output_type": "execute_result",
          "data": {
            "text/plain": [
              "tensor(0.6935, device='cuda:0', grad_fn=<NllLossBackward>)"
            ]
          },
          "metadata": {
            "tags": []
          },
          "execution_count": 15
        }
      ]
    },
    {
      "cell_type": "code",
      "metadata": {
        "id": "oYza0BQ9_Jm8"
      },
      "source": [
        "# Make prediction\r\n",
        "for x,t in iter(test_loader):   \r\n",
        "    y = net(x.float().cuda()).cpu()"
      ],
      "execution_count": 16,
      "outputs": []
    },
    {
      "cell_type": "code",
      "metadata": {
        "colab": {
          "base_uri": "https://localhost:8080/"
        },
        "id": "3ydKICbl_NxF",
        "outputId": "88a41fc7-ecb5-43d2-a36a-815b9f3bd8a9"
      },
      "source": [
        "# Calculate accuracy\r\n",
        "torch.mean((t == y.argmax(1)).float())"
      ],
      "execution_count": 17,
      "outputs": [
        {
          "output_type": "execute_result",
          "data": {
            "text/plain": [
              "tensor(0.5000)"
            ]
          },
          "metadata": {
            "tags": []
          },
          "execution_count": 17
        }
      ]
    },
    {
      "cell_type": "code",
      "metadata": {
        "colab": {
          "base_uri": "https://localhost:8080/"
        },
        "id": "S6MWLOay_Riy",
        "outputId": "ba80c2fc-1ce2-40fc-d64a-1d5839388332"
      },
      "source": [
        "# Train the network over multiple epochs\r\n",
        "acc_hist_train = []\r\n",
        "acc_hist_test = []\r\n",
        "for epoch in range(100):\r\n",
        "    acc_batch = []\r\n",
        "    for x,t in iter(train_loader):   \r\n",
        "        loss_ = train_step(x.float(), t.long(), net, opt, mse_loss)\r\n",
        "        y = net(x.float().cuda()).cpu()\r\n",
        "        acc_batch.append(torch.mean((t == y.argmax(1)).float()))\r\n",
        "    acc_hist_train.append(torch.mean(torch.FloatTensor(acc_batch)))   \r\n",
        "    print(loss_)\r\n",
        "\r\n",
        "    acc_batch = []\r\n",
        "    for x,t in iter(test_loader):   \r\n",
        "        y = net(x.float().cuda()).cpu()\r\n",
        "        acc_batch.append(torch.mean((t == y.argmax(1)).float()))\r\n",
        "    acc_hist_test.append(torch.mean(torch.FloatTensor(acc_batch)))  "
      ],
      "execution_count": 22,
      "outputs": [
        {
          "output_type": "stream",
          "text": [
            "tensor(0.3995, device='cuda:0', grad_fn=<NllLossBackward>)\n",
            "tensor(0.2736, device='cuda:0', grad_fn=<NllLossBackward>)\n",
            "tensor(0.4544, device='cuda:0', grad_fn=<NllLossBackward>)\n",
            "tensor(0.4238, device='cuda:0', grad_fn=<NllLossBackward>)\n",
            "tensor(0.3461, device='cuda:0', grad_fn=<NllLossBackward>)\n",
            "tensor(0.2443, device='cuda:0', grad_fn=<NllLossBackward>)\n",
            "tensor(0.5025, device='cuda:0', grad_fn=<NllLossBackward>)\n",
            "tensor(0.3633, device='cuda:0', grad_fn=<NllLossBackward>)\n",
            "tensor(0.3787, device='cuda:0', grad_fn=<NllLossBackward>)\n",
            "tensor(0.4050, device='cuda:0', grad_fn=<NllLossBackward>)\n",
            "tensor(0.3501, device='cuda:0', grad_fn=<NllLossBackward>)\n",
            "tensor(0.3272, device='cuda:0', grad_fn=<NllLossBackward>)\n",
            "tensor(0.3864, device='cuda:0', grad_fn=<NllLossBackward>)\n",
            "tensor(0.5145, device='cuda:0', grad_fn=<NllLossBackward>)\n",
            "tensor(0.2529, device='cuda:0', grad_fn=<NllLossBackward>)\n",
            "tensor(0.2925, device='cuda:0', grad_fn=<NllLossBackward>)\n",
            "tensor(0.3845, device='cuda:0', grad_fn=<NllLossBackward>)\n",
            "tensor(0.2576, device='cuda:0', grad_fn=<NllLossBackward>)\n",
            "tensor(0.2666, device='cuda:0', grad_fn=<NllLossBackward>)\n",
            "tensor(0.2734, device='cuda:0', grad_fn=<NllLossBackward>)\n",
            "tensor(0.2390, device='cuda:0', grad_fn=<NllLossBackward>)\n",
            "tensor(0.2939, device='cuda:0', grad_fn=<NllLossBackward>)\n",
            "tensor(0.2670, device='cuda:0', grad_fn=<NllLossBackward>)\n",
            "tensor(0.3454, device='cuda:0', grad_fn=<NllLossBackward>)\n",
            "tensor(0.2676, device='cuda:0', grad_fn=<NllLossBackward>)\n",
            "tensor(0.2864, device='cuda:0', grad_fn=<NllLossBackward>)\n",
            "tensor(0.2146, device='cuda:0', grad_fn=<NllLossBackward>)\n",
            "tensor(0.2623, device='cuda:0', grad_fn=<NllLossBackward>)\n",
            "tensor(0.2615, device='cuda:0', grad_fn=<NllLossBackward>)\n",
            "tensor(0.3759, device='cuda:0', grad_fn=<NllLossBackward>)\n",
            "tensor(0.1521, device='cuda:0', grad_fn=<NllLossBackward>)\n",
            "tensor(0.2176, device='cuda:0', grad_fn=<NllLossBackward>)\n",
            "tensor(0.2365, device='cuda:0', grad_fn=<NllLossBackward>)\n",
            "tensor(0.2401, device='cuda:0', grad_fn=<NllLossBackward>)\n",
            "tensor(0.1557, device='cuda:0', grad_fn=<NllLossBackward>)\n",
            "tensor(0.1974, device='cuda:0', grad_fn=<NllLossBackward>)\n",
            "tensor(0.1728, device='cuda:0', grad_fn=<NllLossBackward>)\n",
            "tensor(0.1178, device='cuda:0', grad_fn=<NllLossBackward>)\n",
            "tensor(0.1507, device='cuda:0', grad_fn=<NllLossBackward>)\n",
            "tensor(0.2384, device='cuda:0', grad_fn=<NllLossBackward>)\n",
            "tensor(0.1517, device='cuda:0', grad_fn=<NllLossBackward>)\n",
            "tensor(0.1240, device='cuda:0', grad_fn=<NllLossBackward>)\n",
            "tensor(0.1363, device='cuda:0', grad_fn=<NllLossBackward>)\n",
            "tensor(0.3152, device='cuda:0', grad_fn=<NllLossBackward>)\n",
            "tensor(0.1263, device='cuda:0', grad_fn=<NllLossBackward>)\n",
            "tensor(0.2784, device='cuda:0', grad_fn=<NllLossBackward>)\n",
            "tensor(0.1220, device='cuda:0', grad_fn=<NllLossBackward>)\n",
            "tensor(0.1334, device='cuda:0', grad_fn=<NllLossBackward>)\n",
            "tensor(0.1839, device='cuda:0', grad_fn=<NllLossBackward>)\n",
            "tensor(0.1882, device='cuda:0', grad_fn=<NllLossBackward>)\n",
            "tensor(0.2343, device='cuda:0', grad_fn=<NllLossBackward>)\n",
            "tensor(0.2828, device='cuda:0', grad_fn=<NllLossBackward>)\n",
            "tensor(0.2355, device='cuda:0', grad_fn=<NllLossBackward>)\n",
            "tensor(0.1612, device='cuda:0', grad_fn=<NllLossBackward>)\n",
            "tensor(0.2676, device='cuda:0', grad_fn=<NllLossBackward>)\n",
            "tensor(0.1997, device='cuda:0', grad_fn=<NllLossBackward>)\n",
            "tensor(0.1319, device='cuda:0', grad_fn=<NllLossBackward>)\n",
            "tensor(0.0829, device='cuda:0', grad_fn=<NllLossBackward>)\n",
            "tensor(0.1628, device='cuda:0', grad_fn=<NllLossBackward>)\n",
            "tensor(0.0850, device='cuda:0', grad_fn=<NllLossBackward>)\n",
            "tensor(0.1326, device='cuda:0', grad_fn=<NllLossBackward>)\n",
            "tensor(0.0746, device='cuda:0', grad_fn=<NllLossBackward>)\n",
            "tensor(0.1166, device='cuda:0', grad_fn=<NllLossBackward>)\n",
            "tensor(0.1043, device='cuda:0', grad_fn=<NllLossBackward>)\n",
            "tensor(0.2414, device='cuda:0', grad_fn=<NllLossBackward>)\n",
            "tensor(0.0781, device='cuda:0', grad_fn=<NllLossBackward>)\n",
            "tensor(0.1029, device='cuda:0', grad_fn=<NllLossBackward>)\n",
            "tensor(0.1311, device='cuda:0', grad_fn=<NllLossBackward>)\n",
            "tensor(0.0957, device='cuda:0', grad_fn=<NllLossBackward>)\n",
            "tensor(0.1498, device='cuda:0', grad_fn=<NllLossBackward>)\n",
            "tensor(0.1400, device='cuda:0', grad_fn=<NllLossBackward>)\n",
            "tensor(0.1008, device='cuda:0', grad_fn=<NllLossBackward>)\n",
            "tensor(0.1102, device='cuda:0', grad_fn=<NllLossBackward>)\n",
            "tensor(0.1014, device='cuda:0', grad_fn=<NllLossBackward>)\n",
            "tensor(0.0795, device='cuda:0', grad_fn=<NllLossBackward>)\n",
            "tensor(0.1071, device='cuda:0', grad_fn=<NllLossBackward>)\n",
            "tensor(0.0779, device='cuda:0', grad_fn=<NllLossBackward>)\n",
            "tensor(0.1045, device='cuda:0', grad_fn=<NllLossBackward>)\n",
            "tensor(0.0975, device='cuda:0', grad_fn=<NllLossBackward>)\n",
            "tensor(0.1102, device='cuda:0', grad_fn=<NllLossBackward>)\n",
            "tensor(0.1471, device='cuda:0', grad_fn=<NllLossBackward>)\n",
            "tensor(0.0965, device='cuda:0', grad_fn=<NllLossBackward>)\n",
            "tensor(0.1165, device='cuda:0', grad_fn=<NllLossBackward>)\n",
            "tensor(0.0851, device='cuda:0', grad_fn=<NllLossBackward>)\n",
            "tensor(0.1589, device='cuda:0', grad_fn=<NllLossBackward>)\n",
            "tensor(0.1034, device='cuda:0', grad_fn=<NllLossBackward>)\n",
            "tensor(0.0967, device='cuda:0', grad_fn=<NllLossBackward>)\n",
            "tensor(0.0799, device='cuda:0', grad_fn=<NllLossBackward>)\n",
            "tensor(0.0580, device='cuda:0', grad_fn=<NllLossBackward>)\n",
            "tensor(0.1020, device='cuda:0', grad_fn=<NllLossBackward>)\n",
            "tensor(0.0548, device='cuda:0', grad_fn=<NllLossBackward>)\n",
            "tensor(0.0950, device='cuda:0', grad_fn=<NllLossBackward>)\n",
            "tensor(0.1307, device='cuda:0', grad_fn=<NllLossBackward>)\n",
            "tensor(0.0865, device='cuda:0', grad_fn=<NllLossBackward>)\n",
            "tensor(0.0547, device='cuda:0', grad_fn=<NllLossBackward>)\n",
            "tensor(0.0986, device='cuda:0', grad_fn=<NllLossBackward>)\n",
            "tensor(0.0940, device='cuda:0', grad_fn=<NllLossBackward>)\n",
            "tensor(0.0399, device='cuda:0', grad_fn=<NllLossBackward>)\n",
            "tensor(0.0939, device='cuda:0', grad_fn=<NllLossBackward>)\n",
            "tensor(0.0796, device='cuda:0', grad_fn=<NllLossBackward>)\n"
          ],
          "name": "stdout"
        }
      ]
    },
    {
      "cell_type": "code",
      "metadata": {
        "colab": {
          "base_uri": "https://localhost:8080/"
        },
        "id": "OVm-BnCj_WC-",
        "outputId": "0a28ea2b-a8fa-482c-ffb5-29d1d9432d58"
      },
      "source": [
        "acc_hist_train"
      ],
      "execution_count": 23,
      "outputs": [
        {
          "output_type": "execute_result",
          "data": {
            "text/plain": [
              "[tensor(0.8333),\n",
              " tensor(0.8389),\n",
              " tensor(0.8472),\n",
              " tensor(0.8500),\n",
              " tensor(0.8472),\n",
              " tensor(0.8444),\n",
              " tensor(0.8667),\n",
              " tensor(0.8583),\n",
              " tensor(0.8556),\n",
              " tensor(0.8667),\n",
              " tensor(0.8472),\n",
              " tensor(0.8611),\n",
              " tensor(0.8667),\n",
              " tensor(0.8806),\n",
              " tensor(0.8972),\n",
              " tensor(0.8889),\n",
              " tensor(0.8889),\n",
              " tensor(0.9000),\n",
              " tensor(0.8861),\n",
              " tensor(0.8917),\n",
              " tensor(0.8972),\n",
              " tensor(0.8889),\n",
              " tensor(0.8806),\n",
              " tensor(0.9028),\n",
              " tensor(0.8972),\n",
              " tensor(0.8944),\n",
              " tensor(0.9278),\n",
              " tensor(0.9028),\n",
              " tensor(0.9000),\n",
              " tensor(0.9111),\n",
              " tensor(0.9028),\n",
              " tensor(0.9250),\n",
              " tensor(0.9083),\n",
              " tensor(0.9250),\n",
              " tensor(0.9000),\n",
              " tensor(0.9167),\n",
              " tensor(0.9306),\n",
              " tensor(0.9361),\n",
              " tensor(0.9250),\n",
              " tensor(0.9333),\n",
              " tensor(0.9222),\n",
              " tensor(0.9417),\n",
              " tensor(0.9139),\n",
              " tensor(0.9222),\n",
              " tensor(0.9417),\n",
              " tensor(0.9306),\n",
              " tensor(0.9389),\n",
              " tensor(0.9306),\n",
              " tensor(0.9222),\n",
              " tensor(0.9361),\n",
              " tensor(0.9333),\n",
              " tensor(0.9361),\n",
              " tensor(0.9389),\n",
              " tensor(0.9472),\n",
              " tensor(0.9444),\n",
              " tensor(0.9278),\n",
              " tensor(0.9500),\n",
              " tensor(0.9389),\n",
              " tensor(0.9556),\n",
              " tensor(0.9361),\n",
              " tensor(0.9472),\n",
              " tensor(0.9444),\n",
              " tensor(0.9500),\n",
              " tensor(0.9472),\n",
              " tensor(0.9556),\n",
              " tensor(0.9556),\n",
              " tensor(0.9528),\n",
              " tensor(0.9444),\n",
              " tensor(0.9556),\n",
              " tensor(0.9417),\n",
              " tensor(0.9472),\n",
              " tensor(0.9556),\n",
              " tensor(0.9639),\n",
              " tensor(0.9500),\n",
              " tensor(0.9500),\n",
              " tensor(0.9611),\n",
              " tensor(0.9667),\n",
              " tensor(0.9583),\n",
              " tensor(0.9639),\n",
              " tensor(0.9583),\n",
              " tensor(0.9528),\n",
              " tensor(0.9694),\n",
              " tensor(0.9556),\n",
              " tensor(0.9667),\n",
              " tensor(0.9639),\n",
              " tensor(0.9694),\n",
              " tensor(0.9667),\n",
              " tensor(0.9556),\n",
              " tensor(0.9722),\n",
              " tensor(0.9639),\n",
              " tensor(0.9528),\n",
              " tensor(0.9722),\n",
              " tensor(0.9750),\n",
              " tensor(0.9722),\n",
              " tensor(0.9722),\n",
              " tensor(0.9694),\n",
              " tensor(0.9806),\n",
              " tensor(0.9639),\n",
              " tensor(0.9694),\n",
              " tensor(0.9556)]"
            ]
          },
          "metadata": {
            "tags": []
          },
          "execution_count": 23
        }
      ]
    },
    {
      "cell_type": "code",
      "metadata": {
        "colab": {
          "base_uri": "https://localhost:8080/"
        },
        "id": "ZJ3r0G7n_YW1",
        "outputId": "049a0bde-ad0c-4b09-f449-3acf4cedbcc9"
      },
      "source": [
        "acc_hist_test"
      ],
      "execution_count": 24,
      "outputs": [
        {
          "output_type": "execute_result",
          "data": {
            "text/plain": [
              "[tensor(0.6000),\n",
              " tensor(0.6000),\n",
              " tensor(0.6250),\n",
              " tensor(0.6250),\n",
              " tensor(0.5750),\n",
              " tensor(0.6000),\n",
              " tensor(0.6000),\n",
              " tensor(0.6000),\n",
              " tensor(0.6000),\n",
              " tensor(0.6000),\n",
              " tensor(0.6000),\n",
              " tensor(0.5750),\n",
              " tensor(0.6000),\n",
              " tensor(0.5500),\n",
              " tensor(0.5750),\n",
              " tensor(0.6000),\n",
              " tensor(0.6500),\n",
              " tensor(0.6250),\n",
              " tensor(0.5750),\n",
              " tensor(0.6250),\n",
              " tensor(0.5750),\n",
              " tensor(0.5500),\n",
              " tensor(0.6250),\n",
              " tensor(0.5750),\n",
              " tensor(0.6250),\n",
              " tensor(0.6000),\n",
              " tensor(0.5750),\n",
              " tensor(0.6500),\n",
              " tensor(0.6250),\n",
              " tensor(0.6250),\n",
              " tensor(0.6250),\n",
              " tensor(0.6000),\n",
              " tensor(0.5500),\n",
              " tensor(0.5750),\n",
              " tensor(0.5750),\n",
              " tensor(0.6250),\n",
              " tensor(0.6000),\n",
              " tensor(0.6250),\n",
              " tensor(0.6250),\n",
              " tensor(0.6000),\n",
              " tensor(0.5500),\n",
              " tensor(0.5750),\n",
              " tensor(0.6500),\n",
              " tensor(0.5250),\n",
              " tensor(0.5750),\n",
              " tensor(0.6500),\n",
              " tensor(0.5750),\n",
              " tensor(0.5500),\n",
              " tensor(0.5750),\n",
              " tensor(0.5500),\n",
              " tensor(0.5750),\n",
              " tensor(0.5750),\n",
              " tensor(0.6000),\n",
              " tensor(0.6000),\n",
              " tensor(0.6000),\n",
              " tensor(0.6000),\n",
              " tensor(0.5750),\n",
              " tensor(0.5500),\n",
              " tensor(0.6000),\n",
              " tensor(0.6250),\n",
              " tensor(0.6000),\n",
              " tensor(0.6750),\n",
              " tensor(0.5750),\n",
              " tensor(0.6250),\n",
              " tensor(0.6000),\n",
              " tensor(0.6750),\n",
              " tensor(0.6000),\n",
              " tensor(0.6000),\n",
              " tensor(0.5750),\n",
              " tensor(0.6250),\n",
              " tensor(0.6500),\n",
              " tensor(0.6250),\n",
              " tensor(0.5750),\n",
              " tensor(0.6250),\n",
              " tensor(0.5750),\n",
              " tensor(0.5750),\n",
              " tensor(0.6250),\n",
              " tensor(0.6500),\n",
              " tensor(0.6250),\n",
              " tensor(0.6500),\n",
              " tensor(0.6750),\n",
              " tensor(0.6250),\n",
              " tensor(0.6250),\n",
              " tensor(0.6250),\n",
              " tensor(0.6000),\n",
              " tensor(0.6500),\n",
              " tensor(0.6000),\n",
              " tensor(0.6500),\n",
              " tensor(0.6250),\n",
              " tensor(0.5750),\n",
              " tensor(0.6000),\n",
              " tensor(0.7000),\n",
              " tensor(0.6000),\n",
              " tensor(0.5500),\n",
              " tensor(0.6250),\n",
              " tensor(0.5750),\n",
              " tensor(0.6000),\n",
              " tensor(0.6250),\n",
              " tensor(0.6500),\n",
              " tensor(0.5500)]"
            ]
          },
          "metadata": {
            "tags": []
          },
          "execution_count": 24
        }
      ]
    },
    {
      "cell_type": "code",
      "metadata": {
        "colab": {
          "base_uri": "https://localhost:8080/",
          "height": 285
        },
        "id": "dSgAdzqd_du4",
        "outputId": "f3aa304f-284b-4072-c4a9-cbd5d59152f2"
      },
      "source": [
        "import pylab as plt\r\n",
        "plt.plot(range(len(acc_hist_train)), acc_hist_train)\r\n",
        "plt.plot(range(len(acc_hist_test)), acc_hist_test)"
      ],
      "execution_count": 25,
      "outputs": [
        {
          "output_type": "execute_result",
          "data": {
            "text/plain": [
              "[<matplotlib.lines.Line2D at 0x7ff50d6ba908>]"
            ]
          },
          "metadata": {
            "tags": []
          },
          "execution_count": 25
        },
        {
          "output_type": "display_data",
          "data": {
            "image/png": "[encoded data removed]",
            "text/plain": [
              "<Figure size 432x288 with 1 Axes>"
            ]
          },
          "metadata": {
            "tags": [],
            "needs_background": "light"
          }
        }
      ]
    },
    {
      "cell_type": "code",
      "metadata": {
        "colab": {
          "base_uri": "https://localhost:8080/"
        },
        "id": "mJaQqSLr_kD3",
        "outputId": "9edf0cf3-6a1e-4113-9010-048a282a575a"
      },
      "source": [
        "# We can plot the kernels learned by the CNN\r\n",
        "net.conv1 #This is the first convolutional layer"
      ],
      "execution_count": 26,
      "outputs": [
        {
          "output_type": "execute_result",
          "data": {
            "text/plain": [
              "Conv2d(1, 32, kernel_size=(3, 3), stride=(1, 1))"
            ]
          },
          "metadata": {
            "tags": []
          },
          "execution_count": 26
        }
      ]
    },
    {
      "cell_type": "code",
      "metadata": {
        "colab": {
          "base_uri": "https://localhost:8080/",
          "height": 1000
        },
        "id": "JiI8lz_0_mQz",
        "outputId": "e36671f1-107d-436d-982d-dc8b7a97febe"
      },
      "source": [
        "import pylab\r\n",
        "for i in range(10):\r\n",
        "    pylab.figure();\r\n",
        "    pylab.imshow(net.conv1.weight.data[i].cpu().detach().view(3,3))"
      ],
      "execution_count": 27,
      "outputs": [
        {
          "output_type": "display_data",
          "data": {
            "image/png": "[encoded data removed]",
            "text/plain": [
              "<Figure size 432x288 with 1 Axes>"
            ]
          },
          "metadata": {
            "tags": [],
            "needs_background": "light"
          }
        },
        {
          "output_type": "display_data",
          "data": {
            "image/png": "[encoded data removed]",
            "text/plain": [
              "<Figure size 432x288 with 1 Axes>"
            ]
          },
          "metadata": {
            "tags": [],
            "needs_background": "light"
          }
        },
        {
          "output_type": "display_data",
          "data": {
            "image/png": "[encoded data removed]",
            "text/plain": [
              "<Figure size 432x288 with 1 Axes>"
            ]
          },
          "metadata": {
            "tags": [],
            "needs_background": "light"
          }
        },
        {
          "output_type": "display_data",
          "data": {
            "image/png": "[encoded data removed]",
            "text/plain": [
              "<Figure size 432x288 with 1 Axes>"
            ]
          },
          "metadata": {
            "tags": [],
            "needs_background": "light"
          }
        },
        {
          "output_type": "display_data",
          "data": {
            "image/png": "[encoded data removed]",
            "text/plain": [
              "<Figure size 432x288 with 1 Axes>"
            ]
          },
          "metadata": {
            "tags": [],
            "needs_background": "light"
          }
        },
        {
          "output_type": "display_data",
          "data": {
            "image/png": "[encoded data removed]",
            "text/plain": [
              "<Figure size 432x288 with 1 Axes>"
            ]
          },
          "metadata": {
            "tags": [],
            "needs_background": "light"
          }
        },
        {
          "output_type": "display_data",
          "data": {
            "image/png": "[encoded data removed]",
            "text/plain": [
              "<Figure size 432x288 with 1 Axes>"
            ]
          },
          "metadata": {
            "tags": [],
            "needs_background": "light"
          }
        },
        {
          "output_type": "display_data",
          "data": {
            "image/png": "[encoded data removed]",
            "text/plain": [
              "<Figure size 432x288 with 1 Axes>"
            ]
          },
          "metadata": {
            "tags": [],
            "needs_background": "light"
          }
        },
        {
          "output_type": "display_data",
          "data": {
            "image/png": "[encoded data removed]",
            "text/plain": [
              "<Figure size 432x288 with 1 Axes>"
            ]
          },
          "metadata": {
            "tags": [],
            "needs_background": "light"
          }
        },
        {
          "output_type": "display_data",
          "data": {
            "image/png": "[encoded data removed]",
            "text/plain": [
              "<Figure size 432x288 with 1 Axes>"
            ]
          },
          "metadata": {
            "tags": [],
            "needs_background": "light"
          }
        }
      ]
    }
  ]
}