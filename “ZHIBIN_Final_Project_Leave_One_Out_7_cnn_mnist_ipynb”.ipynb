{
  "nbformat": 4,
  "nbformat_minor": 0,
  "metadata": {
    "colab": {
      "name": "“ZHIBIN_Final_Project_Leave_One_Out_7_cnn_mnist.ipynb”",
      "provenance": [],
      "collapsed_sections": [],
      "include_colab_link": true
    },
    "kernelspec": {
      "name": "python3",
      "display_name": "Python 3"
    },
    "accelerator": "GPU"
  },
  "cells": [
    {
      "cell_type": "markdown",
      "metadata": {
        "id": "view-in-github",
        "colab_type": "text"
      },
      "source": [
        "<a href=\"https://colab.research.google.com/github/zhibinz2/Neural-Networks-and-Machine-Learning/blob/master/%E2%80%9CZHIBIN_Final_Project_Leave_One_Out_7_cnn_mnist_ipynb%E2%80%9D.ipynb\" target=\"_parent\"><img src=\"https://colab.research.google.com/assets/colab-badge.svg\" alt=\"Open In Colab\"/></a>"
      ]
    },
    {
      "cell_type": "code",
      "metadata": {
        "id": "jYAzTj0i3oqV"
      },
      "source": [
        "# set up\r\n",
        "import tqdm\r\n",
        "\r\n",
        "import torch\r\n",
        "from torch import optim\r\n",
        "from torch import nn\r\n",
        "\r\n",
        "\r\n",
        "import torchvision\r\n",
        "from torchvision import datasets, transforms\r\n",
        "import torchvision.transforms as transforms\r\n",
        "from torchvision import models, transforms\r\n",
        "from torch.autograd import Variable\r\n",
        "\r\n",
        "import pandas as pd\r\n",
        "from PIL import Image\r\n",
        "import requests\r\n",
        "import io\r\n",
        "import random, time, sys\r\n",
        "from collections import namedtuple\r\n",
        "\r\n",
        "import matplotlib.pyplot as plt"
      ],
      "execution_count": 1,
      "outputs": []
    },
    {
      "cell_type": "code",
      "metadata": {
        "colab": {
          "base_uri": "https://localhost:8080/"
        },
        "id": "7EJq4p_22RZF",
        "outputId": "7b1761f1-601e-46a8-de7a-a4b5e122cbcd"
      },
      "source": [
        "# load data from GitHub\r\n",
        "import numpy as np\r\n",
        "!wget https://github.com/zhibinz2/Neural-Networks-and-Machine-Learning/raw/master/data.npy\r\n",
        "data=np.load('data.npy')"
      ],
      "execution_count": 2,
      "outputs": [
        {
          "output_type": "stream",
          "text": [
            "--2020-12-08 21:35:47--  https://github.com/zhibinz2/Neural-Networks-and-Machine-Learning/raw/master/data.npy\n",
            "Resolving github.com (github.com)... 192.30.255.113\n",
            "Connecting to github.com (github.com)|192.30.255.113|:443... connected.\n",
            "HTTP request sent, awaiting response... 302 Found\n",
            "Location: https://raw.githubusercontent.com/zhibinz2/Neural-Networks-and-Machine-Learning/master/data.npy [following]\n",
            "--2020-12-08 21:35:47--  https://raw.githubusercontent.com/zhibinz2/Neural-Networks-and-Machine-Learning/master/data.npy\n",
            "Resolving raw.githubusercontent.com (raw.githubusercontent.com)... 151.101.0.133, 151.101.64.133, 151.101.128.133, ...\n",
            "Connecting to raw.githubusercontent.com (raw.githubusercontent.com)|151.101.0.133|:443... connected.\n",
            "HTTP request sent, awaiting response... 200 OK\n",
            "Length: 14851328 (14M) [application/octet-stream]\n",
            "Saving to: ‘data.npy’\n",
            "\n",
            "data.npy            100%[===================>]  14.16M  68.3MB/s    in 0.2s    \n",
            "\n",
            "2020-12-08 21:35:48 (68.3 MB/s) - ‘data.npy’ saved [14851328/14851328]\n",
            "\n"
          ],
          "name": "stdout"
        }
      ]
    },
    {
      "cell_type": "code",
      "metadata": {
        "id": "pAkjyNGW3ktD"
      },
      "source": [
        "# prepare the data to load into dataloader\r\n",
        "\r\n",
        "import cv2\r\n",
        "# resize matrices into 28 by 28 (for convolutional network only)\r\n",
        "resize=np.zeros([400,28,28])\r\n",
        "for j in np.array(range(400)):\r\n",
        "    img=data[j,:,:]\r\n",
        "    dim = (28, 28)\r\n",
        "    resize[j,:,:] = cv2.resize(img, dim, interpolation = cv2.INTER_AREA)\r\n",
        "    \r\n",
        "data=resize\r\n",
        "\r\n",
        "# Add one dimension\r\n",
        "data=np.expand_dims(data, axis=1)"
      ],
      "execution_count": 3,
      "outputs": []
    },
    {
      "cell_type": "code",
      "metadata": {
        "colab": {
          "base_uri": "https://localhost:8080/"
        },
        "id": "tSDLBV6d4m18",
        "outputId": "688e1b8c-28c2-44ad-9386-fc6dfcfc009c"
      },
      "source": [
        "# load the targets from GitHub (for convolutional network only)\r\n",
        "import numpy as np\r\n",
        "!wget https://github.com/zhibinz2/Neural-Networks-and-Machine-Learning/raw/master/targets.npy\r\n",
        "targets=np.load('targets.npy')"
      ],
      "execution_count": 4,
      "outputs": [
        {
          "output_type": "stream",
          "text": [
            "--2020-12-08 21:36:18--  https://github.com/zhibinz2/Neural-Networks-and-Machine-Learning/raw/master/targets.npy\n",
            "Resolving github.com (github.com)... 192.30.255.113\n",
            "Connecting to github.com (github.com)|192.30.255.113|:443... connected.\n",
            "HTTP request sent, awaiting response... 302 Found\n",
            "Location: https://raw.githubusercontent.com/zhibinz2/Neural-Networks-and-Machine-Learning/master/targets.npy [following]\n",
            "--2020-12-08 21:36:18--  https://raw.githubusercontent.com/zhibinz2/Neural-Networks-and-Machine-Learning/master/targets.npy\n",
            "Resolving raw.githubusercontent.com (raw.githubusercontent.com)... 151.101.0.133, 151.101.64.133, 151.101.128.133, ...\n",
            "Connecting to raw.githubusercontent.com (raw.githubusercontent.com)|151.101.0.133|:443... connected.\n",
            "HTTP request sent, awaiting response... 200 OK\n",
            "Length: 3328 (3.2K) [application/octet-stream]\n",
            "Saving to: ‘targets.npy’\n",
            "\n",
            "targets.npy         100%[===================>]   3.25K  --.-KB/s    in 0s      \n",
            "\n",
            "2020-12-08 21:36:18 (48.7 MB/s) - ‘targets.npy’ saved [3328/3328]\n",
            "\n"
          ],
          "name": "stdout"
        }
      ]
    },
    {
      "cell_type": "code",
      "metadata": {
        "id": "LyKgccnYSwAC"
      },
      "source": [
        "# import leave one out\r\n",
        "from sklearn.model_selection import LeaveOneOut\r\n",
        "loo = LeaveOneOut()"
      ],
      "execution_count": 5,
      "outputs": []
    },
    {
      "cell_type": "code",
      "metadata": {
        "colab": {
          "base_uri": "https://localhost:8080/"
        },
        "id": "YIwMsJiuS9yk",
        "outputId": "dc155762-1d34-4545-f31b-7d8ea0f91fe0"
      },
      "source": [
        "loo.get_n_splits(data)"
      ],
      "execution_count": 8,
      "outputs": [
        {
          "output_type": "execute_result",
          "data": {
            "text/plain": [
              "400"
            ]
          },
          "metadata": {
            "tags": []
          },
          "execution_count": 8
        }
      ]
    },
    {
      "cell_type": "code",
      "metadata": {
        "colab": {
          "base_uri": "https://localhost:8080/"
        },
        "id": "R3-1ncMISv0c",
        "outputId": "0436bc96-43d8-496e-ca31-9cfbedb7e9ea"
      },
      "source": [
        "loo.get_n_splits(targets)"
      ],
      "execution_count": 7,
      "outputs": [
        {
          "output_type": "execute_result",
          "data": {
            "text/plain": [
              "400"
            ]
          },
          "metadata": {
            "tags": []
          },
          "execution_count": 7
        }
      ]
    },
    {
      "cell_type": "code",
      "metadata": {
        "id": "vabxTKhq9XYF"
      },
      "source": [
        "# data loader\r\n",
        "from torch.utils.data import Dataset\r\n",
        "class MyTrainingDataset(Dataset):\r\n",
        "    def __init__(self, root, transform=None, target_transform=None):\r\n",
        "        self.root=root\r\n",
        "        self.transform=transform\r\n",
        "        self.target_transform=target_transform\r\n",
        "        self.data=np.load(self.root[0])\r\n",
        "        self.targets=np.load(self.root[1])\r\n",
        "        \r\n",
        "    def __len__(self):\r\n",
        "        return len(self.data)\r\n",
        " \r\n",
        "    def __getitem__(self, idx):\r\n",
        "        sample=self.data[idx] \r\n",
        "        target=self.targets[idx]\r\n",
        "        \r\n",
        "        if self.transform:\r\n",
        "            sample=self.transform(sample)\r\n",
        "        if self.target_transform:\r\n",
        "            target=self.target_transform(target)\r\n",
        "            \r\n",
        "        return sample, target"
      ],
      "execution_count": 10,
      "outputs": []
    },
    {
      "cell_type": "code",
      "metadata": {
        "id": "PzWKAqcaTWZs"
      },
      "source": [
        "# 7_cnn_mnist.ipynb\r\n",
        "\r\n",
        "class LeNet(torch.nn.Module):\r\n",
        "    def __init__(self):\r\n",
        "        super(LeNet, self).__init__()\r\n",
        "        self.conv1 = torch.nn.Conv2d(1, 32, 3, 1)\r\n",
        "        self.conv2 = torch.nn.Conv2d(32, 64, 3, 1)\r\n",
        "        self.dropout1 = torch.nn.Dropout2d(0.25)\r\n",
        "        self.dropout2 = torch.nn.Dropout2d(0.5)\r\n",
        "        self.pool2 = torch.nn.MaxPool2d((2,2),(2,2))\r\n",
        "        self.fc1 = torch.nn.Linear(9216, 128)\r\n",
        "        self.fc2 = torch.nn.Linear(128, 2)\r\n",
        "    def forward(self, x):\r\n",
        "        x = self.conv1(x)\r\n",
        "        x = torch.relu(x)\r\n",
        "        x = self.conv2(x)\r\n",
        "        x = self.pool2(x)\r\n",
        "        x = torch.relu(x)\r\n",
        "        x = self.dropout1(x)\r\n",
        "        x = torch.flatten(x, 1)\r\n",
        "        x = self.fc1(x)\r\n",
        "        x = torch.relu(x)\r\n",
        "        x = self.dropout2(x)\r\n",
        "        x = self.fc2(x)\r\n",
        "        return x\r\n",
        "\r\n",
        "net = LeNet().cuda()"
      ],
      "execution_count": 11,
      "outputs": []
    },
    {
      "cell_type": "code",
      "metadata": {
        "id": "NLPNI5puTbNk"
      },
      "source": [
        "mse_loss = torch.nn.CrossEntropyLoss()\r\n",
        "opt = torch.optim.Adam(net.parameters(), lr=1e-3)"
      ],
      "execution_count": 12,
      "outputs": []
    },
    {
      "cell_type": "code",
      "metadata": {
        "id": "oLS67L98Tfj7"
      },
      "source": [
        "def train_step(x, t, net, opt_fn, loss_fn):\r\n",
        "    y = net(x.cuda())\r\n",
        "    loss = loss_fn(y, t.cuda())\r\n",
        "    loss.backward()\r\n",
        "    opt_fn.step()\r\n",
        "    opt_fn.zero_grad()\r\n",
        "    return loss"
      ],
      "execution_count": 14,
      "outputs": []
    },
    {
      "cell_type": "code",
      "metadata": {
        "id": "RjZcQ-4T-NWU",
        "colab": {
          "base_uri": "https://localhost:8080/",
          "height": 1000
        },
        "outputId": "071be14a-dbb3-4768-9188-1c621a7df84c"
      },
      "source": [
        "# Leave one out loop and train the network\r\n",
        "for train_index, test_index in loo.split(data):\r\n",
        "  #print(\"TRAIN:\", train_index, \"TEST:\", test_index)\r\n",
        "  train_data, test_data = data[train_index], data[test_index]\r\n",
        "  train_targets, test_targets = targets[train_index], targets[test_index]\r\n",
        "  #print(train_data, test_data, train_targets, test_targets)\r\n",
        "\r\n",
        "  np.save('train_data.npy',train_data)\r\n",
        "  np.save('train_targets.npy',train_targets)\r\n",
        "  train_set=MyTrainingDataset(root=['train_data.npy', 'train_targets.npy'])\r\n",
        "\r\n",
        "  np.save('test_data.npy',test_data)\r\n",
        "  np.save('test_targets.npy',test_targets)\r\n",
        "  test_set=MyTrainingDataset(root=['test_data.npy', 'test_targets.npy'])\r\n",
        "\r\n",
        "  # set batch size and load into the dataloader\r\n",
        "  batch=1\r\n",
        "  train_loader = torch.utils.data.DataLoader(train_set, batch_size=batch, shuffle=True)\r\n",
        "  test_loader = torch.utils.data.DataLoader(test_set, batch_size=batch, shuffle=False)\r\n",
        "\r\n",
        "  # 7_cnn_mnist.ipynb\r\n",
        "  x,t = next(iter(train_loader))\r\n",
        "\r\n",
        "  train_step(x.float().cuda(), t.long().cuda(), net, opt, mse_loss)\r\n",
        "\r\n",
        "  # Make prediction\r\n",
        "  for x,t in iter(test_loader):   \r\n",
        "    y = net(x.float().cuda()).cpu()\r\n",
        "\r\n",
        "  # Calculate accuracy\r\n",
        "  torch.mean((t == y.argmax(1)).float())\r\n",
        "  # Train the network over multiple epochs\r\n",
        "  acc_hist_train = []\r\n",
        "  acc_hist_test = []\r\n",
        "  for epoch in range(5):\r\n",
        "      acc_batch = []\r\n",
        "      for x,t in iter(train_loader):   \r\n",
        "          loss_ = train_step(x.float(), t.long(), net, opt, mse_loss)\r\n",
        "          y = net(x.float().cuda()).cpu()\r\n",
        "          acc_batch.append(torch.mean((t == y.argmax(1)).float()))\r\n",
        "      acc_hist_train.append(torch.mean(torch.FloatTensor(acc_batch)))   \r\n",
        "      print(loss_)\r\n",
        "\r\n",
        "      acc_batch = []\r\n",
        "      for x,t in iter(test_loader):   \r\n",
        "          y = net(x.float().cuda()).cpu()\r\n",
        "          acc_batch.append(torch.mean((t == y.argmax(1)).float()))\r\n",
        "      acc_hist_test.append(torch.mean(torch.FloatTensor(acc_batch)))  \r\n"
      ],
      "execution_count": 16,
      "outputs": [
        {
          "output_type": "stream",
          "text": [
            "tensor(0.7135, device='cuda:0', grad_fn=<NllLossBackward>)\n",
            "tensor(0.7078, device='cuda:0', grad_fn=<NllLossBackward>)\n",
            "tensor(0.6856, device='cuda:0', grad_fn=<NllLossBackward>)\n",
            "tensor(0.6845, device='cuda:0', grad_fn=<NllLossBackward>)\n",
            "tensor(0.6991, device='cuda:0', grad_fn=<NllLossBackward>)\n",
            "tensor(0.6922, device='cuda:0', grad_fn=<NllLossBackward>)\n",
            "tensor(0.6924, device='cuda:0', grad_fn=<NllLossBackward>)\n",
            "tensor(0.6949, device='cuda:0', grad_fn=<NllLossBackward>)\n",
            "tensor(0.6962, device='cuda:0', grad_fn=<NllLossBackward>)\n",
            "tensor(0.6862, device='cuda:0', grad_fn=<NllLossBackward>)\n",
            "tensor(0.6963, device='cuda:0', grad_fn=<NllLossBackward>)\n",
            "tensor(0.6937, device='cuda:0', grad_fn=<NllLossBackward>)\n",
            "tensor(0.6914, device='cuda:0', grad_fn=<NllLossBackward>)\n",
            "tensor(0.6954, device='cuda:0', grad_fn=<NllLossBackward>)\n",
            "tensor(0.6977, device='cuda:0', grad_fn=<NllLossBackward>)\n",
            "tensor(0.6946, device='cuda:0', grad_fn=<NllLossBackward>)\n",
            "tensor(0.6924, device='cuda:0', grad_fn=<NllLossBackward>)\n",
            "tensor(0.6983, device='cuda:0', grad_fn=<NllLossBackward>)\n",
            "tensor(0.6925, device='cuda:0', grad_fn=<NllLossBackward>)\n",
            "tensor(0.6929, device='cuda:0', grad_fn=<NllLossBackward>)\n",
            "tensor(0.6970, device='cuda:0', grad_fn=<NllLossBackward>)\n",
            "tensor(0.6912, device='cuda:0', grad_fn=<NllLossBackward>)\n",
            "tensor(0.7009, device='cuda:0', grad_fn=<NllLossBackward>)\n",
            "tensor(0.6887, device='cuda:0', grad_fn=<NllLossBackward>)\n",
            "tensor(0.6977, device='cuda:0', grad_fn=<NllLossBackward>)\n",
            "tensor(0.6959, device='cuda:0', grad_fn=<NllLossBackward>)\n",
            "tensor(0.6953, device='cuda:0', grad_fn=<NllLossBackward>)\n",
            "tensor(0.6925, device='cuda:0', grad_fn=<NllLossBackward>)\n",
            "tensor(0.6928, device='cuda:0', grad_fn=<NllLossBackward>)\n",
            "tensor(0.6906, device='cuda:0', grad_fn=<NllLossBackward>)\n",
            "tensor(0.6922, device='cuda:0', grad_fn=<NllLossBackward>)\n",
            "tensor(0.6946, device='cuda:0', grad_fn=<NllLossBackward>)\n",
            "tensor(0.6913, device='cuda:0', grad_fn=<NllLossBackward>)\n",
            "tensor(0.6941, device='cuda:0', grad_fn=<NllLossBackward>)\n",
            "tensor(0.6925, device='cuda:0', grad_fn=<NllLossBackward>)\n",
            "tensor(0.6925, device='cuda:0', grad_fn=<NllLossBackward>)\n",
            "tensor(0.6927, device='cuda:0', grad_fn=<NllLossBackward>)\n",
            "tensor(0.6952, device='cuda:0', grad_fn=<NllLossBackward>)\n",
            "tensor(0.6953, device='cuda:0', grad_fn=<NllLossBackward>)\n",
            "tensor(0.6966, device='cuda:0', grad_fn=<NllLossBackward>)\n",
            "tensor(0.6974, device='cuda:0', grad_fn=<NllLossBackward>)\n",
            "tensor(0.6900, device='cuda:0', grad_fn=<NllLossBackward>)\n",
            "tensor(0.6906, device='cuda:0', grad_fn=<NllLossBackward>)\n",
            "tensor(0.6925, device='cuda:0', grad_fn=<NllLossBackward>)\n",
            "tensor(0.6923, device='cuda:0', grad_fn=<NllLossBackward>)\n",
            "tensor(0.6958, device='cuda:0', grad_fn=<NllLossBackward>)\n",
            "tensor(0.6899, device='cuda:0', grad_fn=<NllLossBackward>)\n",
            "tensor(0.6911, device='cuda:0', grad_fn=<NllLossBackward>)\n",
            "tensor(0.6904, device='cuda:0', grad_fn=<NllLossBackward>)\n",
            "tensor(0.7016, device='cuda:0', grad_fn=<NllLossBackward>)\n",
            "tensor(0.6863, device='cuda:0', grad_fn=<NllLossBackward>)\n",
            "tensor(0.6905, device='cuda:0', grad_fn=<NllLossBackward>)\n",
            "tensor(0.7036, device='cuda:0', grad_fn=<NllLossBackward>)\n",
            "tensor(0.7000, device='cuda:0', grad_fn=<NllLossBackward>)\n",
            "tensor(0.6906, device='cuda:0', grad_fn=<NllLossBackward>)\n",
            "tensor(0.6975, device='cuda:0', grad_fn=<NllLossBackward>)\n",
            "tensor(0.6908, device='cuda:0', grad_fn=<NllLossBackward>)\n",
            "tensor(0.6939, device='cuda:0', grad_fn=<NllLossBackward>)\n",
            "tensor(0.6894, device='cuda:0', grad_fn=<NllLossBackward>)\n",
            "tensor(0.6957, device='cuda:0', grad_fn=<NllLossBackward>)\n",
            "tensor(0.6957, device='cuda:0', grad_fn=<NllLossBackward>)\n",
            "tensor(0.6964, device='cuda:0', grad_fn=<NllLossBackward>)\n",
            "tensor(0.6952, device='cuda:0', grad_fn=<NllLossBackward>)\n",
            "tensor(0.6899, device='cuda:0', grad_fn=<NllLossBackward>)\n",
            "tensor(0.6970, device='cuda:0', grad_fn=<NllLossBackward>)\n",
            "tensor(0.6945, device='cuda:0', grad_fn=<NllLossBackward>)\n",
            "tensor(0.6965, device='cuda:0', grad_fn=<NllLossBackward>)\n",
            "tensor(0.6948, device='cuda:0', grad_fn=<NllLossBackward>)\n"
          ],
          "name": "stdout"
        },
        {
          "output_type": "error",
          "ename": "KeyboardInterrupt",
          "evalue": "ignored",
          "traceback": [
            "\u001b[0;31m---------------------------------------------------------------------------\u001b[0m",
            "\u001b[0;31mKeyboardInterrupt\u001b[0m                         Traceback (most recent call last)",
            "\u001b[0;32m<ipython-input-16-a495df3cce51>\u001b[0m in \u001b[0;36m<module>\u001b[0;34m()\u001b[0m\n\u001b[1;32m     36\u001b[0m       \u001b[0macc_batch\u001b[0m \u001b[0;34m=\u001b[0m \u001b[0;34m[\u001b[0m\u001b[0;34m]\u001b[0m\u001b[0;34m\u001b[0m\u001b[0;34m\u001b[0m\u001b[0m\n\u001b[1;32m     37\u001b[0m       \u001b[0;32mfor\u001b[0m \u001b[0mx\u001b[0m\u001b[0;34m,\u001b[0m\u001b[0mt\u001b[0m \u001b[0;32min\u001b[0m \u001b[0miter\u001b[0m\u001b[0;34m(\u001b[0m\u001b[0mtrain_loader\u001b[0m\u001b[0;34m)\u001b[0m\u001b[0;34m:\u001b[0m\u001b[0;34m\u001b[0m\u001b[0;34m\u001b[0m\u001b[0m\n\u001b[0;32m---> 38\u001b[0;31m           \u001b[0mloss_\u001b[0m \u001b[0;34m=\u001b[0m \u001b[0mtrain_step\u001b[0m\u001b[0;34m(\u001b[0m\u001b[0mx\u001b[0m\u001b[0;34m.\u001b[0m\u001b[0mfloat\u001b[0m\u001b[0;34m(\u001b[0m\u001b[0;34m)\u001b[0m\u001b[0;34m,\u001b[0m \u001b[0mt\u001b[0m\u001b[0;34m.\u001b[0m\u001b[0mlong\u001b[0m\u001b[0;34m(\u001b[0m\u001b[0;34m)\u001b[0m\u001b[0;34m,\u001b[0m \u001b[0mnet\u001b[0m\u001b[0;34m,\u001b[0m \u001b[0mopt\u001b[0m\u001b[0;34m,\u001b[0m \u001b[0mmse_loss\u001b[0m\u001b[0;34m)\u001b[0m\u001b[0;34m\u001b[0m\u001b[0;34m\u001b[0m\u001b[0m\n\u001b[0m\u001b[1;32m     39\u001b[0m           \u001b[0my\u001b[0m \u001b[0;34m=\u001b[0m \u001b[0mnet\u001b[0m\u001b[0;34m(\u001b[0m\u001b[0mx\u001b[0m\u001b[0;34m.\u001b[0m\u001b[0mfloat\u001b[0m\u001b[0;34m(\u001b[0m\u001b[0;34m)\u001b[0m\u001b[0;34m.\u001b[0m\u001b[0mcuda\u001b[0m\u001b[0;34m(\u001b[0m\u001b[0;34m)\u001b[0m\u001b[0;34m)\u001b[0m\u001b[0;34m.\u001b[0m\u001b[0mcpu\u001b[0m\u001b[0;34m(\u001b[0m\u001b[0;34m)\u001b[0m\u001b[0;34m\u001b[0m\u001b[0;34m\u001b[0m\u001b[0m\n\u001b[1;32m     40\u001b[0m           \u001b[0macc_batch\u001b[0m\u001b[0;34m.\u001b[0m\u001b[0mappend\u001b[0m\u001b[0;34m(\u001b[0m\u001b[0mtorch\u001b[0m\u001b[0;34m.\u001b[0m\u001b[0mmean\u001b[0m\u001b[0;34m(\u001b[0m\u001b[0;34m(\u001b[0m\u001b[0mt\u001b[0m \u001b[0;34m==\u001b[0m \u001b[0my\u001b[0m\u001b[0;34m.\u001b[0m\u001b[0margmax\u001b[0m\u001b[0;34m(\u001b[0m\u001b[0;36m1\u001b[0m\u001b[0;34m)\u001b[0m\u001b[0;34m)\u001b[0m\u001b[0;34m.\u001b[0m\u001b[0mfloat\u001b[0m\u001b[0;34m(\u001b[0m\u001b[0;34m)\u001b[0m\u001b[0;34m)\u001b[0m\u001b[0;34m)\u001b[0m\u001b[0;34m\u001b[0m\u001b[0;34m\u001b[0m\u001b[0m\n",
            "\u001b[0;32m<ipython-input-14-61f08d32f0cb>\u001b[0m in \u001b[0;36mtrain_step\u001b[0;34m(x, t, net, opt_fn, loss_fn)\u001b[0m\n\u001b[1;32m      2\u001b[0m     \u001b[0my\u001b[0m \u001b[0;34m=\u001b[0m \u001b[0mnet\u001b[0m\u001b[0;34m(\u001b[0m\u001b[0mx\u001b[0m\u001b[0;34m.\u001b[0m\u001b[0mcuda\u001b[0m\u001b[0;34m(\u001b[0m\u001b[0;34m)\u001b[0m\u001b[0;34m)\u001b[0m\u001b[0;34m\u001b[0m\u001b[0;34m\u001b[0m\u001b[0m\n\u001b[1;32m      3\u001b[0m     \u001b[0mloss\u001b[0m \u001b[0;34m=\u001b[0m \u001b[0mloss_fn\u001b[0m\u001b[0;34m(\u001b[0m\u001b[0my\u001b[0m\u001b[0;34m,\u001b[0m \u001b[0mt\u001b[0m\u001b[0;34m.\u001b[0m\u001b[0mcuda\u001b[0m\u001b[0;34m(\u001b[0m\u001b[0;34m)\u001b[0m\u001b[0;34m)\u001b[0m\u001b[0;34m\u001b[0m\u001b[0;34m\u001b[0m\u001b[0m\n\u001b[0;32m----> 4\u001b[0;31m     \u001b[0mloss\u001b[0m\u001b[0;34m.\u001b[0m\u001b[0mbackward\u001b[0m\u001b[0;34m(\u001b[0m\u001b[0;34m)\u001b[0m\u001b[0;34m\u001b[0m\u001b[0;34m\u001b[0m\u001b[0m\n\u001b[0m\u001b[1;32m      5\u001b[0m     \u001b[0mopt_fn\u001b[0m\u001b[0;34m.\u001b[0m\u001b[0mstep\u001b[0m\u001b[0;34m(\u001b[0m\u001b[0;34m)\u001b[0m\u001b[0;34m\u001b[0m\u001b[0;34m\u001b[0m\u001b[0m\n\u001b[1;32m      6\u001b[0m     \u001b[0mopt_fn\u001b[0m\u001b[0;34m.\u001b[0m\u001b[0mzero_grad\u001b[0m\u001b[0;34m(\u001b[0m\u001b[0;34m)\u001b[0m\u001b[0;34m\u001b[0m\u001b[0;34m\u001b[0m\u001b[0m\n",
            "\u001b[0;32m/usr/local/lib/python3.6/dist-packages/torch/tensor.py\u001b[0m in \u001b[0;36mbackward\u001b[0;34m(self, gradient, retain_graph, create_graph)\u001b[0m\n\u001b[1;32m    219\u001b[0m                 \u001b[0mretain_graph\u001b[0m\u001b[0;34m=\u001b[0m\u001b[0mretain_graph\u001b[0m\u001b[0;34m,\u001b[0m\u001b[0;34m\u001b[0m\u001b[0;34m\u001b[0m\u001b[0m\n\u001b[1;32m    220\u001b[0m                 create_graph=create_graph)\n\u001b[0;32m--> 221\u001b[0;31m         \u001b[0mtorch\u001b[0m\u001b[0;34m.\u001b[0m\u001b[0mautograd\u001b[0m\u001b[0;34m.\u001b[0m\u001b[0mbackward\u001b[0m\u001b[0;34m(\u001b[0m\u001b[0mself\u001b[0m\u001b[0;34m,\u001b[0m \u001b[0mgradient\u001b[0m\u001b[0;34m,\u001b[0m \u001b[0mretain_graph\u001b[0m\u001b[0;34m,\u001b[0m \u001b[0mcreate_graph\u001b[0m\u001b[0;34m)\u001b[0m\u001b[0;34m\u001b[0m\u001b[0;34m\u001b[0m\u001b[0m\n\u001b[0m\u001b[1;32m    222\u001b[0m \u001b[0;34m\u001b[0m\u001b[0m\n\u001b[1;32m    223\u001b[0m     \u001b[0;32mdef\u001b[0m \u001b[0mregister_hook\u001b[0m\u001b[0;34m(\u001b[0m\u001b[0mself\u001b[0m\u001b[0;34m,\u001b[0m \u001b[0mhook\u001b[0m\u001b[0;34m)\u001b[0m\u001b[0;34m:\u001b[0m\u001b[0;34m\u001b[0m\u001b[0;34m\u001b[0m\u001b[0m\n",
            "\u001b[0;32m/usr/local/lib/python3.6/dist-packages/torch/autograd/__init__.py\u001b[0m in \u001b[0;36mbackward\u001b[0;34m(tensors, grad_tensors, retain_graph, create_graph, grad_variables)\u001b[0m\n\u001b[1;32m    130\u001b[0m     Variable._execution_engine.run_backward(\n\u001b[1;32m    131\u001b[0m         \u001b[0mtensors\u001b[0m\u001b[0;34m,\u001b[0m \u001b[0mgrad_tensors_\u001b[0m\u001b[0;34m,\u001b[0m \u001b[0mretain_graph\u001b[0m\u001b[0;34m,\u001b[0m \u001b[0mcreate_graph\u001b[0m\u001b[0;34m,\u001b[0m\u001b[0;34m\u001b[0m\u001b[0;34m\u001b[0m\u001b[0m\n\u001b[0;32m--> 132\u001b[0;31m         allow_unreachable=True)  # allow_unreachable flag\n\u001b[0m\u001b[1;32m    133\u001b[0m \u001b[0;34m\u001b[0m\u001b[0m\n\u001b[1;32m    134\u001b[0m \u001b[0;34m\u001b[0m\u001b[0m\n",
            "\u001b[0;31mKeyboardInterrupt\u001b[0m: "
          ]
        }
      ]
    },
    {
      "cell_type": "code",
      "metadata": {
        "colab": {
          "base_uri": "https://localhost:8080/"
        },
        "id": "OVm-BnCj_WC-",
        "outputId": "11c4dbdb-6074-49a5-beb5-efe125cf02e5"
      },
      "source": [
        "acc_hist_train"
      ],
      "execution_count": 17,
      "outputs": [
        {
          "output_type": "execute_result",
          "data": {
            "text/plain": [
              "[tensor(0.4586), tensor(0.4812), tensor(0.4987)]"
            ]
          },
          "metadata": {
            "tags": []
          },
          "execution_count": 17
        }
      ]
    },
    {
      "cell_type": "code",
      "metadata": {
        "colab": {
          "base_uri": "https://localhost:8080/"
        },
        "id": "ZJ3r0G7n_YW1",
        "outputId": "d54084c7-52ec-4259-dca2-1d86a2d199b2"
      },
      "source": [
        "acc_hist_test"
      ],
      "execution_count": 18,
      "outputs": [
        {
          "output_type": "execute_result",
          "data": {
            "text/plain": [
              "[tensor(1.), tensor(0.), tensor(1.)]"
            ]
          },
          "metadata": {
            "tags": []
          },
          "execution_count": 18
        }
      ]
    },
    {
      "cell_type": "code",
      "metadata": {
        "colab": {
          "base_uri": "https://localhost:8080/",
          "height": 282
        },
        "id": "dSgAdzqd_du4",
        "outputId": "821039fb-bdca-4ac5-d488-0e0e8c0ceb80"
      },
      "source": [
        "import pylab as plt\r\n",
        "plt.plot(range(len(acc_hist_train)), acc_hist_train)\r\n",
        "plt.plot(range(len(acc_hist_test)), acc_hist_test)"
      ],
      "execution_count": 19,
      "outputs": [
        {
          "output_type": "execute_result",
          "data": {
            "text/plain": [
              "[<matplotlib.lines.Line2D at 0x7f37aa5aa9e8>]"
            ]
          },
          "metadata": {
            "tags": []
          },
          "execution_count": 19
        },
        {
          "output_type": "display_data",
          "data": {
            "image/png": "[encoded data removed]",
            "text/plain": [
              "<Figure size 432x288 with 1 Axes>"
            ]
          },
          "metadata": {
            "tags": [],
            "needs_background": "light"
          }
        }
      ]
    },
    {
      "cell_type": "code",
      "metadata": {
        "colab": {
          "base_uri": "https://localhost:8080/"
        },
        "id": "mJaQqSLr_kD3",
        "outputId": "3adf76e0-86d9-4865-8ca9-e67d67fc3ac4"
      },
      "source": [
        "# We can plot the kernels learned by the CNN\r\n",
        "net.conv1 #This is the first convolutional layer"
      ],
      "execution_count": 20,
      "outputs": [
        {
          "output_type": "execute_result",
          "data": {
            "text/plain": [
              "Conv2d(1, 32, kernel_size=(3, 3), stride=(1, 1))"
            ]
          },
          "metadata": {
            "tags": []
          },
          "execution_count": 20
        }
      ]
    },
    {
      "cell_type": "code",
      "metadata": {
        "colab": {
          "base_uri": "https://localhost:8080/",
          "height": 1000
        },
        "id": "JiI8lz_0_mQz",
        "outputId": "2a37fd73-cb7a-4979-dd0d-4065f6886644"
      },
      "source": [
        "import pylab\r\n",
        "for i in range(10):\r\n",
        "    pylab.figure();\r\n",
        "    pylab.imshow(net.conv1.weight.data[i].cpu().detach().view(3,3))"
      ],
      "execution_count": 21,
      "outputs": [
        {
          "output_type": "display_data",
          "data": {
            "image/png": "[encoded data removed]",
            "text/plain": [
              "<Figure size 432x288 with 1 Axes>"
            ]
          },
          "metadata": {
            "tags": [],
            "needs_background": "light"
          }
        },
        {
          "output_type": "display_data",
          "data": {
            "image/png": "[encoded data removed]",
            "text/plain": [
              "<Figure size 432x288 with 1 Axes>"
            ]
          },
          "metadata": {
            "tags": [],
            "needs_background": "light"
          }
        },
        {
          "output_type": "display_data",
          "data": {
            "image/png": "[encoded data removed]",
            "text/plain": [
              "<Figure size 432x288 with 1 Axes>"
            ]
          },
          "metadata": {
            "tags": [],
            "needs_background": "light"
          }
        },
        {
          "output_type": "display_data",
          "data": {
            "image/png": "[encoded data removed]",
            "text/plain": [
              "<Figure size 432x288 with 1 Axes>"
            ]
          },
          "metadata": {
            "tags": [],
            "needs_background": "light"
          }
        },
        {
          "output_type": "display_data",
          "data": {
            "image/png": "[encoded data removed]",
            "text/plain": [
              "<Figure size 432x288 with 1 Axes>"
            ]
          },
          "metadata": {
            "tags": [],
            "needs_background": "light"
          }
        },
        {
          "output_type": "display_data",
          "data": {
            "image/png": "[encoded data removed]",
            "text/plain": [
              "<Figure size 432x288 with 1 Axes>"
            ]
          },
          "metadata": {
            "tags": [],
            "needs_background": "light"
          }
        },
        {
          "output_type": "display_data",
          "data": {
            "image/png": "[encoded data removed]",
            "text/plain": [
              "<Figure size 432x288 with 1 Axes>"
            ]
          },
          "metadata": {
            "tags": [],
            "needs_background": "light"
          }
        },
        {
          "output_type": "display_data",
          "data": {
            "image/png": "[encoded data removed]",
            "text/plain": [
              "<Figure size 432x288 with 1 Axes>"
            ]
          },
          "metadata": {
            "tags": [],
            "needs_background": "light"
          }
        },
        {
          "output_type": "display_data",
          "data": {
            "image/png": "[encoded data removed]",
            "text/plain": [
              "<Figure size 432x288 with 1 Axes>"
            ]
          },
          "metadata": {
            "tags": [],
            "needs_background": "light"
          }
        },
        {
          "output_type": "display_data",
          "data": {
            "image/png": "[encoded data removed]",
            "text/plain": [
              "<Figure size 432x288 with 1 Axes>"
            ]
          },
          "metadata": {
            "tags": [],
            "needs_background": "light"
          }
        }
      ]
    }
  ]
}