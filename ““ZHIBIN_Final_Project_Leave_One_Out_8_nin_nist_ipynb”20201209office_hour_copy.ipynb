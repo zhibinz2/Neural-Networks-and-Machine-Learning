{
  "nbformat": 4,
  "nbformat_minor": 0,
  "metadata": {
    "colab": {
      "name": "““ZHIBIN_Final_Project_Leave_One_Out_8_nin_nist.ipynb”20201209office_hour_copy",
      "provenance": [],
      "collapsed_sections": [],
      "include_colab_link": true
    },
    "kernelspec": {
      "name": "python3",
      "display_name": "Python 3"
    },
    "accelerator": "GPU"
  },
  "cells": [
    {
      "cell_type": "markdown",
      "metadata": {
        "id": "view-in-github",
        "colab_type": "text"
      },
      "source": [
        "<a href=\"https://colab.research.google.com/github/zhibinz2/Neural-Networks-and-Machine-Learning/blob/master/%E2%80%9C%E2%80%9CZHIBIN_Final_Project_Leave_One_Out_8_nin_nist_ipynb%E2%80%9D20201209office_hour_copy.ipynb\" target=\"_parent\"><img src=\"https://colab.research.google.com/assets/colab-badge.svg\" alt=\"Open In Colab\"/></a>"
      ]
    },
    {
      "cell_type": "code",
      "metadata": {
        "colab": {
          "base_uri": "https://localhost:8080/"
        },
        "id": "7XTS--GOIOlj",
        "outputId": "d9dadad2-9065-475b-c2f7-c3357dd69b96"
      },
      "source": [
        "import numpy as np\n",
        "!wget https://github.com/zhibinz2/Neural-Networks-and-Machine-Learning/raw/master/data.npy\n",
        "data=np.load('data.npy')\n",
        "\n",
        "import tqdm\n",
        "\n",
        "import torch\n",
        "from torch import optim\n",
        "from torch import nn\n",
        "\n",
        "\n",
        "import torchvision\n",
        "from torchvision import datasets, transforms\n",
        "import torchvision.transforms as transforms\n",
        "from torchvision import models, transforms\n",
        "from torch.autograd import Variable\n",
        "\n",
        "import pandas as pd\n",
        "from PIL import Image\n",
        "import requests\n",
        "import io\n",
        "import random, time, sys\n",
        "from collections import namedtuple\n",
        "\n",
        "import matplotlib.pyplot as plt\n",
        "from matplotlib import pyplot as plt"
      ],
      "execution_count": 1,
      "outputs": [
        {
          "output_type": "stream",
          "text": [
            "--2020-12-11 06:32:22--  https://github.com/zhibinz2/Neural-Networks-and-Machine-Learning/raw/master/data.npy\n",
            "Resolving github.com (github.com)... 140.82.113.3\n",
            "Connecting to github.com (github.com)|140.82.113.3|:443... connected.\n",
            "HTTP request sent, awaiting response... 302 Found\n",
            "Location: https://raw.githubusercontent.com/zhibinz2/Neural-Networks-and-Machine-Learning/master/data.npy [following]\n",
            "--2020-12-11 06:32:22--  https://raw.githubusercontent.com/zhibinz2/Neural-Networks-and-Machine-Learning/master/data.npy\n",
            "Resolving raw.githubusercontent.com (raw.githubusercontent.com)... 151.101.0.133, 151.101.64.133, 151.101.128.133, ...\n",
            "Connecting to raw.githubusercontent.com (raw.githubusercontent.com)|151.101.0.133|:443... connected.\n",
            "HTTP request sent, awaiting response... 200 OK\n",
            "Length: 11262288 (11M) [application/octet-stream]\n",
            "Saving to: ‘data.npy’\n",
            "\n",
            "data.npy            100%[===================>]  10.74M  --.-KB/s    in 0.08s   \n",
            "\n",
            "2020-12-11 06:32:22 (140 MB/s) - ‘data.npy’ saved [11262288/11262288]\n",
            "\n"
          ],
          "name": "stdout"
        }
      ]
    },
    {
      "cell_type": "code",
      "metadata": {
        "id": "4wibE4e2yQAb"
      },
      "source": [
        "# resize the data to 28 by 28 (only for convolutional network)\n",
        "import cv2\n",
        "# resize matrices into 28 by 28 (for convolutional network only)\n",
        "resize=np.zeros([170,28,28])\n",
        "for j in np.array(range(170)):\n",
        "    img=data[j,:,:]\n",
        "    dim = (28, 28)\n",
        "    resize[j,:,:] = cv2.resize(img, dim, interpolation = cv2.INTER_AREA)\n",
        "    \n",
        "data=resize"
      ],
      "execution_count": 2,
      "outputs": []
    },
    {
      "cell_type": "code",
      "metadata": {
        "id": "piYObZbkv1ME"
      },
      "source": [
        "# Add one dimension, needed for both single layer FCN and convolutional network\n",
        "data=np.expand_dims(data, axis=1)"
      ],
      "execution_count": 3,
      "outputs": []
    },
    {
      "cell_type": "code",
      "metadata": {
        "id": "HZoN5kCagGIL"
      },
      "source": [
        "# Creat the targets (Only for convolutional network)\r\n",
        "A=np.zeros(110)\r\n",
        "B=np.ones(60)\r\n",
        "targets=np.concatenate((A,B),axis=0)"
      ],
      "execution_count": 4,
      "outputs": []
    },
    {
      "cell_type": "code",
      "metadata": {
        "id": "MeKGBtXYIrcA"
      },
      "source": [
        "# leave one out\n",
        "from sklearn.model_selection import LeaveOneOut\n",
        "loo = LeaveOneOut()"
      ],
      "execution_count": 5,
      "outputs": []
    },
    {
      "cell_type": "code",
      "metadata": {
        "id": "3ryDCSWpN6VV"
      },
      "source": [
        "from torch.utils.data import Dataset\n",
        "class MyTrainingDataset(Dataset):\n",
        "    def __init__(self, root, transform=None, target_transform=None):\n",
        "        self.root=root\n",
        "        self.transform=transform\n",
        "        self.target_transform=target_transform\n",
        "        self.data=np.load(self.root[0])\n",
        "        self.targets=np.load(self.root[1])\n",
        "        \n",
        "    def __len__(self):\n",
        "        return len(self.data)\n",
        " \n",
        "    def __getitem__(self, idx):\n",
        "        sample=self.data[idx] \n",
        "        target=self.targets[idx]\n",
        "        \n",
        "        if self.transform:\n",
        "            sample=self.transform(sample)\n",
        "        if self.target_transform:\n",
        "            target=self.target_transform(target)\n",
        "            \n",
        "        return sample, target"
      ],
      "execution_count": 6,
      "outputs": []
    },
    {
      "cell_type": "code",
      "metadata": {
        "id": "qC-6B8I_jQOS"
      },
      "source": [
        "class NIN(torch.nn.Module):\n",
        "    def __init__(self):\n",
        "        super(NIN, self).__init__()\n",
        "\n",
        "        self.nin1 = torch.nn.Sequential(\n",
        "            torch.nn.Conv2d(1, 32, 5, padding=2),\n",
        "            torch.nn.ReLU(),\n",
        "            torch.nn.Conv2d(32, 32, 1),\n",
        "            torch.nn.ReLU(),\n",
        "            torch.nn.Conv2d(32, 32, 1),\n",
        "            torch.nn.ReLU(),\n",
        "            torch.nn.MaxPool2d(3, stride=2),\n",
        "            torch.nn.Dropout(.5)          \n",
        "        )\n",
        "        self.nin2 = torch.nn.Sequential(\n",
        "            torch.nn.Conv2d(32, 64, 3, padding=1),\n",
        "            torch.nn.ReLU(),\n",
        "            torch.nn.Conv2d(64, 64, 1),\n",
        "            torch.nn.ReLU(),\n",
        "            torch.nn.Conv2d(64, 64, 1),\n",
        "            torch.nn.ReLU(),\n",
        "            torch.nn.MaxPool2d(3, stride=2),\n",
        "            torch.nn.Dropout(.5)          \n",
        "        )\n",
        "        self.nin3 = torch.nn.Sequential(\n",
        "            torch.nn.Conv2d(64, 128, 3, padding=1),\n",
        "            torch.nn.ReLU(),\n",
        "            torch.nn.Conv2d(128, 128, 1),\n",
        "            torch.nn.ReLU(),\n",
        "            torch.nn.Conv2d(128, 2, 1),\n",
        "            torch.nn.ReLU(),\n",
        "        )\n",
        "        self.pool = torch.nn.AvgPool2d(6, stride=1)  \n",
        "\n",
        "\n",
        "    def forward(self, x):\n",
        "        x = self.nin1(x)\n",
        "        x = self.nin2(x)\n",
        "        x = self.nin3(x)\n",
        "        x = self.pool(x)\n",
        "        return x.view(-1,2)\n",
        "\n",
        "net = NIN().cuda()"
      ],
      "execution_count": 7,
      "outputs": []
    },
    {
      "cell_type": "code",
      "metadata": {
        "id": "kMFIcQavPm-n"
      },
      "source": [
        "mse_loss = torch.nn.CrossEntropyLoss()\n",
        "opt = torch.optim.Adam(net.parameters(), lr=1e-3)"
      ],
      "execution_count": 8,
      "outputs": []
    },
    {
      "cell_type": "code",
      "metadata": {
        "id": "XrWyhnpmPsYF"
      },
      "source": [
        "def train_step(x, t, net, opt_fn, loss_fn):\n",
        "    y = net(x.cuda())\n",
        "    loss = loss_fn(y, t.cuda())\n",
        "    loss.backward()\n",
        "    opt_fn.step()\n",
        "    opt_fn.zero_grad()\n",
        "    return loss"
      ],
      "execution_count": 9,
      "outputs": []
    },
    {
      "cell_type": "code",
      "metadata": {
        "id": "aPo2DvJxIrZA"
      },
      "source": [
        "acc_hist_train = []\n",
        "acc_hist_test = []\n",
        "\n",
        "for train_index, test_index in loo.split(data):\n",
        "  #print(\"TRAIN:\", train_index, \"TEST:\", test_index)\n",
        "  train_data, test_data = data[train_index], data[test_index]\n",
        "  train_targets, test_targets = targets[train_index], targets[test_index]\n",
        "  #print(train_data, test_data, train_targets, test_targets)\n",
        "\n",
        "  np.save('train_data.npy',train_data)\n",
        "  np.save('train_targets.npy',train_targets)\n",
        "  train_set=MyTrainingDataset(root=['train_data.npy', 'train_targets.npy'])\n",
        "\n",
        "  np.save('test_data.npy',test_data)\n",
        "  np.save('test_targets.npy',test_targets)\n",
        "  test_set=MyTrainingDataset(root=['test_data.npy', 'test_targets.npy'])\n",
        "\n",
        "  net = NIN().cuda()\n",
        "  mse_loss = torch.nn.CrossEntropyLoss()\n",
        "  opt = torch.optim.Adam(net.parameters(), lr=1e-3)\n",
        "\n",
        "  batch=100\n",
        "  train_loader = torch.utils.data.DataLoader(train_set, batch_size=batch, shuffle=True)\n",
        "  test_loader = torch.utils.data.DataLoader(test_set, batch_size=batch, shuffle=False)\n",
        "\n",
        "  # 8_nin_nist\n",
        "  x, t = next(iter(train_loader))\n",
        "  net(x.float().cuda()).shape\n",
        "\n",
        "  net = NIN().cuda()\n",
        "  mse_loss = torch.nn.CrossEntropyLoss()\n",
        "  opt = torch.optim.Adam(net.parameters(), lr=1e-3)\n",
        "\n",
        "  x,t = next(iter(train_loader))\n",
        "\n",
        "  train_step(x.float(), t.long(), net, opt, mse_loss)\n",
        "  \n",
        "  # Train the network over multiple epochs\n",
        "\n",
        "  for epoch in range(50):\n",
        "    acc_batch = []\n",
        "    net.train()\n",
        "    for x,t in iter(train_loader):   \n",
        "        loss_train = train_step(x.float(), t.long(), net, opt, mse_loss)\n",
        "        y = net(x.float().cuda()).cpu()\n",
        "        acc_batch.append(torch.mean((t == y.argmax(1)).float()))\n",
        "    acc_hist_train.append(torch.mean(torch.FloatTensor(acc_batch)))   \n",
        "    print(loss_train)\n",
        "\n",
        "    net.eval()\n",
        "    acc_batch = []\n",
        "    for x,t in iter(test_loader):   \n",
        "        y = net(x.float().cuda()).cpu()\n",
        "        acc_batch.append(torch.mean((t == y.argmax(1)).float()))\n",
        "    acc_hist_test.append(torch.mean(torch.FloatTensor(acc_batch))) \n",
        "\n",
        "\n",
        "\n"
      ],
      "execution_count": null,
      "outputs": []
    },
    {
      "cell_type": "code",
      "metadata": {
        "id": "7XEB_pxlIrWI"
      },
      "source": [
        "acc_hist_train"
      ],
      "execution_count": null,
      "outputs": []
    },
    {
      "cell_type": "code",
      "metadata": {
        "id": "bLO9cgl2khRw"
      },
      "source": [
        "acc_hist_test"
      ],
      "execution_count": null,
      "outputs": []
    },
    {
      "cell_type": "code",
      "metadata": {
        "colab": {
          "base_uri": "https://localhost:8080/",
          "height": 282
        },
        "id": "h-jx1wknki1W",
        "outputId": "ac011d0b-38b1-4a24-db68-e35b2c02b6c7"
      },
      "source": [
        "import pylab as plt\n",
        "plt.plot(range(len(acc_hist_train)), acc_hist_train)\n",
        "plt.plot(range(len(acc_hist_test)), acc_hist_test)"
      ],
      "execution_count": 18,
      "outputs": [
        {
          "output_type": "execute_result",
          "data": {
            "text/plain": [
              "[<matplotlib.lines.Line2D at 0x7efe81564470>]"
            ]
          },
          "metadata": {
            "tags": []
          },
          "execution_count": 18
        },
        {
          "output_type": "display_data",
          "data": {
            "image/png": "[encoded data removed]",
            "text/plain": [
              "<Figure size 432x288 with 1 Axes>"
            ]
          },
          "metadata": {
            "tags": [],
            "needs_background": "light"
          }
        }
      ]
    },
    {
      "cell_type": "code",
      "metadata": {
        "id": "Q7LVvNGkkjYV",
        "colab": {
          "base_uri": "https://localhost:8080/"
        },
        "outputId": "9ba221d7-3bf4-4ec4-d936-f8449069476c"
      },
      "source": [
        "Test_accuracy=np.mean(acc_hist_test)\r\n",
        "Test_accuracy"
      ],
      "execution_count": 19,
      "outputs": [
        {
          "output_type": "execute_result",
          "data": {
            "text/plain": [
              "0.64741176"
            ]
          },
          "metadata": {
            "tags": []
          },
          "execution_count": 19
        }
      ]
    },
    {
      "cell_type": "code",
      "metadata": {
        "id": "8AmeFPOpbZji"
      },
      "source": [
        ""
      ],
      "execution_count": null,
      "outputs": []
    }
  ]
}