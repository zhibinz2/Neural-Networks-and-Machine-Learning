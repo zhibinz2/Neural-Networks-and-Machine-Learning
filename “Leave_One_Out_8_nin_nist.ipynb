{
  "nbformat": 4,
  "nbformat_minor": 0,
  "metadata": {
    "colab": {
      "name": "“Leave_One_Out_8_nin_nist.ipynb",
      "provenance": [],
      "collapsed_sections": [],
      "include_colab_link": true
    },
    "kernelspec": {
      "name": "python3",
      "display_name": "Python 3"
    },
    "accelerator": "GPU"
  },
  "cells": [
    {
      "cell_type": "markdown",
      "metadata": {
        "id": "view-in-github",
        "colab_type": "text"
      },
      "source": [
        "<a href=\"https://colab.research.google.com/github/zhibinz2/Neural-Networks-and-Machine-Learning/blob/master/%E2%80%9CLeave_One_Out_8_nin_nist.ipynb\" target=\"_parent\"><img src=\"https://colab.research.google.com/assets/colab-badge.svg\" alt=\"Open In Colab\"/></a>"
      ]
    },
    {
      "cell_type": "code",
      "metadata": {
        "colab": {
          "base_uri": "https://localhost:8080/"
        },
        "id": "7XTS--GOIOlj",
        "outputId": "29abd2b4-f925-4eab-8f5a-f614fc845d19"
      },
      "source": [
        "import numpy as np\n",
        "!wget https://github.com/zhibinz2/Neural-Networks-and-Machine-Learning/raw/master/data.npy\n",
        "data=np.load('data.npy')\n",
        "\n",
        "# only for convolutional network\n",
        "import numpy as np\n",
        "!wget https://github.com/zhibinz2/Neural-Networks-and-Machine-Learning/raw/master/targets.npy\n",
        "targets=np.load('targets.npy')\n",
        "\n",
        "import tqdm\n",
        "\n",
        "import torch\n",
        "from torch import optim\n",
        "from torch import nn\n",
        "\n",
        "\n",
        "import torchvision\n",
        "from torchvision import datasets, transforms\n",
        "import torchvision.transforms as transforms\n",
        "from torchvision import models, transforms\n",
        "from torch.autograd import Variable\n",
        "\n",
        "import pandas as pd\n",
        "from PIL import Image\n",
        "import requests\n",
        "import io\n",
        "import random, time, sys\n",
        "from collections import namedtuple\n",
        "\n",
        "import matplotlib.pyplot as plt\n",
        "from matplotlib import pyplot as plt"
      ],
      "execution_count": null,
      "outputs": [
        {
          "output_type": "stream",
          "text": [
            "--2020-12-08 00:56:34--  https://github.com/zhibinz2/Neural-Networks-and-Machine-Learning/raw/master/data.npy\n",
            "Resolving github.com (github.com)... 140.82.113.3\n",
            "Connecting to github.com (github.com)|140.82.113.3|:443... connected.\n",
            "HTTP request sent, awaiting response... 302 Found\n",
            "Location: https://raw.githubusercontent.com/zhibinz2/Neural-Networks-and-Machine-Learning/master/data.npy [following]\n",
            "--2020-12-08 00:56:34--  https://raw.githubusercontent.com/zhibinz2/Neural-Networks-and-Machine-Learning/master/data.npy\n",
            "Resolving raw.githubusercontent.com (raw.githubusercontent.com)... 151.101.0.133, 151.101.64.133, 151.101.128.133, ...\n",
            "Connecting to raw.githubusercontent.com (raw.githubusercontent.com)|151.101.0.133|:443... connected.\n",
            "HTTP request sent, awaiting response... 200 OK\n",
            "Length: 14851328 (14M) [application/octet-stream]\n",
            "Saving to: ‘data.npy’\n",
            "\n",
            "data.npy            100%[===================>]  14.16M  --.-KB/s    in 0.09s   \n",
            "\n",
            "2020-12-08 00:56:34 (161 MB/s) - ‘data.npy’ saved [14851328/14851328]\n",
            "\n",
            "--2020-12-08 00:56:35--  https://github.com/zhibinz2/Neural-Networks-and-Machine-Learning/raw/master/targets.npy\n",
            "Resolving github.com (github.com)... 140.82.114.4\n",
            "Connecting to github.com (github.com)|140.82.114.4|:443... connected.\n",
            "HTTP request sent, awaiting response... 302 Found\n",
            "Location: https://raw.githubusercontent.com/zhibinz2/Neural-Networks-and-Machine-Learning/master/targets.npy [following]\n",
            "--2020-12-08 00:56:35--  https://raw.githubusercontent.com/zhibinz2/Neural-Networks-and-Machine-Learning/master/targets.npy\n",
            "Resolving raw.githubusercontent.com (raw.githubusercontent.com)... 151.101.0.133, 151.101.64.133, 151.101.128.133, ...\n",
            "Connecting to raw.githubusercontent.com (raw.githubusercontent.com)|151.101.0.133|:443... connected.\n",
            "HTTP request sent, awaiting response... 200 OK\n",
            "Length: 3328 (3.2K) [application/octet-stream]\n",
            "Saving to: ‘targets.npy’\n",
            "\n",
            "targets.npy         100%[===================>]   3.25K  --.-KB/s    in 0s      \n",
            "\n",
            "2020-12-08 00:56:35 (51.1 MB/s) - ‘targets.npy’ saved [3328/3328]\n",
            "\n"
          ],
          "name": "stdout"
        }
      ]
    },
    {
      "cell_type": "code",
      "metadata": {
        "id": "02H1Awk9IaNc"
      },
      "source": [
        "data=data[:,0:28,0:28]\n",
        "# Add one dimension, needed for both single layer FCN and convolutional network\n",
        "data=np.expand_dims(data, axis=1)"
      ],
      "execution_count": null,
      "outputs": []
    },
    {
      "cell_type": "code",
      "metadata": {
        "colab": {
          "base_uri": "https://localhost:8080/"
        },
        "id": "MeKGBtXYIrcA",
        "outputId": "4c73a906-4a25-405a-8ebc-644e7268083c"
      },
      "source": [
        "# leave one out\n",
        "from sklearn.model_selection import LeaveOneOut\n",
        "loo = LeaveOneOut()\n",
        "loo.get_n_splits(data)"
      ],
      "execution_count": null,
      "outputs": [
        {
          "output_type": "execute_result",
          "data": {
            "text/plain": [
              "400"
            ]
          },
          "metadata": {
            "tags": []
          },
          "execution_count": 4
        }
      ]
    },
    {
      "cell_type": "code",
      "metadata": {
        "id": "3ryDCSWpN6VV"
      },
      "source": [
        "from torch.utils.data import Dataset\n",
        "class MyTrainingDataset(Dataset):\n",
        "    def __init__(self, root, transform=None, target_transform=None):\n",
        "        self.root=root\n",
        "        self.transform=transform\n",
        "        self.target_transform=target_transform\n",
        "        self.data=np.load(self.root[0])\n",
        "        self.targets=np.load(self.root[1])\n",
        "        \n",
        "    def __len__(self):\n",
        "        return len(self.data)\n",
        " \n",
        "    def __getitem__(self, idx):\n",
        "        sample=self.data[idx] \n",
        "        target=self.targets[idx]\n",
        "        \n",
        "        if self.transform:\n",
        "            sample=self.transform(sample)\n",
        "        if self.target_transform:\n",
        "            target=self.target_transform(target)\n",
        "            \n",
        "        return sample, target"
      ],
      "execution_count": null,
      "outputs": []
    },
    {
      "cell_type": "code",
      "metadata": {
        "id": "qC-6B8I_jQOS"
      },
      "source": [
        "class NIN(torch.nn.Module):\n",
        "    def __init__(self):\n",
        "        super(NIN, self).__init__()\n",
        "\n",
        "        self.nin1 = torch.nn.Sequential(\n",
        "            torch.nn.Conv2d(1, 32, 5, padding=2),\n",
        "            torch.nn.ReLU(),\n",
        "            torch.nn.Conv2d(32, 32, 1),\n",
        "            torch.nn.ReLU(),\n",
        "            torch.nn.Conv2d(32, 32, 1),\n",
        "            torch.nn.ReLU(),\n",
        "            torch.nn.MaxPool2d(3, stride=2),\n",
        "            torch.nn.Dropout(.5)          \n",
        "        )\n",
        "        self.nin2 = torch.nn.Sequential(\n",
        "            torch.nn.Conv2d(32, 64, 3, padding=1),\n",
        "            torch.nn.ReLU(),\n",
        "            torch.nn.Conv2d(64, 64, 1),\n",
        "            torch.nn.ReLU(),\n",
        "            torch.nn.Conv2d(64, 64, 1),\n",
        "            torch.nn.ReLU(),\n",
        "            torch.nn.MaxPool2d(3, stride=2),\n",
        "            torch.nn.Dropout(.5)          \n",
        "        )\n",
        "        self.nin3 = torch.nn.Sequential(\n",
        "            torch.nn.Conv2d(64, 128, 3, padding=1),\n",
        "            torch.nn.ReLU(),\n",
        "            torch.nn.Conv2d(128, 128, 1),\n",
        "            torch.nn.ReLU(),\n",
        "            torch.nn.Conv2d(128, 2, 1),\n",
        "            torch.nn.ReLU(),\n",
        "        )\n",
        "        self.pool = torch.nn.AvgPool2d(6, stride=1)  \n",
        "\n",
        "\n",
        "    def forward(self, x):\n",
        "        x = self.nin1(x)\n",
        "        x = self.nin2(x)\n",
        "        x = self.nin3(x)\n",
        "        x = self.pool(x)\n",
        "        return x.view(-1,2)\n",
        "\n",
        "net = NIN().cuda()"
      ],
      "execution_count": null,
      "outputs": []
    },
    {
      "cell_type": "code",
      "metadata": {
        "id": "kMFIcQavPm-n"
      },
      "source": [
        "mse_loss = torch.nn.CrossEntropyLoss()\n",
        "opt = torch.optim.Adam(net.parameters(), lr=1e-3)"
      ],
      "execution_count": null,
      "outputs": []
    },
    {
      "cell_type": "code",
      "metadata": {
        "id": "XrWyhnpmPsYF"
      },
      "source": [
        "def train_step(x, t, net, opt_fn, loss_fn):\n",
        "    y = net(x.cuda())\n",
        "    loss = loss_fn(y, t.cuda())\n",
        "    loss.backward()\n",
        "    opt_fn.step()\n",
        "    opt_fn.zero_grad()\n",
        "    return loss"
      ],
      "execution_count": null,
      "outputs": []
    },
    {
      "cell_type": "code",
      "metadata": {
        "id": "aPo2DvJxIrZA",
        "colab": {
          "base_uri": "https://localhost:8080/",
          "height": 663
        },
        "outputId": "453df098-149e-4064-ed25-682c45f1990c"
      },
      "source": [
        "for train_index, test_index in loo.split(data):\n",
        "  #print(\"TRAIN:\", train_index, \"TEST:\", test_index)\n",
        "  train_data, test_data = data[train_index], data[test_index]\n",
        "  train_targets, test_targets = targets[train_index], targets[test_index]\n",
        "  #print(train_data, test_data, train_targets, test_targets)\n",
        "\n",
        "  np.save('train_data.npy',train_data)\n",
        "  np.save('train_targets.npy',train_targets)\n",
        "  train_set=MyTrainingDataset(root=['train_data.npy', 'train_targets.npy'])\n",
        "\n",
        "  np.save('test_data.npy',test_data)\n",
        "  np.save('test_targets.npy',test_targets)\n",
        "  test_set=MyTrainingDataset(root=['test_data.npy', 'test_targets.npy'])\n",
        "\n",
        "  batch=1\n",
        "  train_loader = torch.utils.data.DataLoader(train_set, batch_size=batch, shuffle=True)\n",
        "  test_loader = torch.utils.data.DataLoader(test_set, batch_size=batch, shuffle=False)\n",
        "\n",
        "  # 8_nin_nist\n",
        "  x, t = next(iter(train_loader))\n",
        "  net(x.float().cuda()).shape\n",
        "\n",
        "  mse_loss = torch.nn.CrossEntropyLoss()\n",
        "  opt = torch.optim.Adam(net.parameters(), lr=1e-3)\n",
        "\n",
        "  x,t = next(iter(train_loader))\n",
        "\n",
        "  train_step(x.float(), t.long(), net, opt, mse_loss)\n",
        "  # Train the network over multiple epochs\n",
        "  acc_hist_train = []\n",
        "  acc_hist_test = []\n",
        "  for epoch in range(5):\n",
        "    acc_batch = []\n",
        "    net.train()\n",
        "    for x,t in iter(train_loader):   \n",
        "        loss_train = train_step(x.float(), t.long(), net, opt, mse_loss)\n",
        "        y = net(x.float().cuda()).cpu()\n",
        "        acc_batch.append(torch.mean((t == y.argmax(1)).float()))\n",
        "    acc_hist_train.append(torch.mean(torch.FloatTensor(acc_batch)))   \n",
        "    print(loss_train)\n",
        "\n",
        "    net.eval()\n",
        "    acc_batch = []\n",
        "    for x,t in iter(test_loader):   \n",
        "        y = net(x.float().cuda()).cpu()\n",
        "        acc_batch.append(torch.mean((t == y.argmax(1)).float()))\n",
        "    acc_hist_test.append(torch.mean(torch.FloatTensor(acc_batch))) \n",
        "\n",
        "\n",
        "\n"
      ],
      "execution_count": null,
      "outputs": [
        {
          "output_type": "stream",
          "text": [
            "tensor(0.6931, device='cuda:0', grad_fn=<NllLossBackward>)\n",
            "tensor(0.6931, device='cuda:0', grad_fn=<NllLossBackward>)\n",
            "tensor(0.6931, device='cuda:0', grad_fn=<NllLossBackward>)\n",
            "tensor(0.6931, device='cuda:0', grad_fn=<NllLossBackward>)\n",
            "tensor(0.6931, device='cuda:0', grad_fn=<NllLossBackward>)\n",
            "tensor(0.6931, device='cuda:0', grad_fn=<NllLossBackward>)\n",
            "tensor(0.6931, device='cuda:0', grad_fn=<NllLossBackward>)\n",
            "tensor(0.6931, device='cuda:0', grad_fn=<NllLossBackward>)\n",
            "tensor(0.6931, device='cuda:0', grad_fn=<NllLossBackward>)\n",
            "tensor(0.6931, device='cuda:0', grad_fn=<NllLossBackward>)\n",
            "tensor(0.6931, device='cuda:0', grad_fn=<NllLossBackward>)\n",
            "tensor(0.6931, device='cuda:0', grad_fn=<NllLossBackward>)\n",
            "tensor(0.6931, device='cuda:0', grad_fn=<NllLossBackward>)\n",
            "tensor(0.6931, device='cuda:0', grad_fn=<NllLossBackward>)\n",
            "tensor(0.6931, device='cuda:0', grad_fn=<NllLossBackward>)\n",
            "tensor(0.6931, device='cuda:0', grad_fn=<NllLossBackward>)\n",
            "tensor(0.6931, device='cuda:0', grad_fn=<NllLossBackward>)\n"
          ],
          "name": "stdout"
        },
        {
          "output_type": "error",
          "ename": "KeyboardInterrupt",
          "evalue": "ignored",
          "traceback": [
            "\u001b[0;31m---------------------------------------------------------------------------\u001b[0m",
            "\u001b[0;31mKeyboardInterrupt\u001b[0m                         Traceback (most recent call last)",
            "\u001b[0;32m<ipython-input-11-b2140ae6032f>\u001b[0m in \u001b[0;36m<module>\u001b[0;34m()\u001b[0m\n\u001b[1;32m     34\u001b[0m     \u001b[0mnet\u001b[0m\u001b[0;34m.\u001b[0m\u001b[0mtrain\u001b[0m\u001b[0;34m(\u001b[0m\u001b[0;34m)\u001b[0m\u001b[0;34m\u001b[0m\u001b[0;34m\u001b[0m\u001b[0m\n\u001b[1;32m     35\u001b[0m     \u001b[0;32mfor\u001b[0m \u001b[0mx\u001b[0m\u001b[0;34m,\u001b[0m\u001b[0mt\u001b[0m \u001b[0;32min\u001b[0m \u001b[0miter\u001b[0m\u001b[0;34m(\u001b[0m\u001b[0mtrain_loader\u001b[0m\u001b[0;34m)\u001b[0m\u001b[0;34m:\u001b[0m\u001b[0;34m\u001b[0m\u001b[0;34m\u001b[0m\u001b[0m\n\u001b[0;32m---> 36\u001b[0;31m         \u001b[0mloss_train\u001b[0m \u001b[0;34m=\u001b[0m \u001b[0mtrain_step\u001b[0m\u001b[0;34m(\u001b[0m\u001b[0mx\u001b[0m\u001b[0;34m.\u001b[0m\u001b[0mfloat\u001b[0m\u001b[0;34m(\u001b[0m\u001b[0;34m)\u001b[0m\u001b[0;34m,\u001b[0m \u001b[0mt\u001b[0m\u001b[0;34m.\u001b[0m\u001b[0mlong\u001b[0m\u001b[0;34m(\u001b[0m\u001b[0;34m)\u001b[0m\u001b[0;34m,\u001b[0m \u001b[0mnet\u001b[0m\u001b[0;34m,\u001b[0m \u001b[0mopt\u001b[0m\u001b[0;34m,\u001b[0m \u001b[0mmse_loss\u001b[0m\u001b[0;34m)\u001b[0m\u001b[0;34m\u001b[0m\u001b[0;34m\u001b[0m\u001b[0m\n\u001b[0m\u001b[1;32m     37\u001b[0m         \u001b[0my\u001b[0m \u001b[0;34m=\u001b[0m \u001b[0mnet\u001b[0m\u001b[0;34m(\u001b[0m\u001b[0mx\u001b[0m\u001b[0;34m.\u001b[0m\u001b[0mfloat\u001b[0m\u001b[0;34m(\u001b[0m\u001b[0;34m)\u001b[0m\u001b[0;34m.\u001b[0m\u001b[0mcuda\u001b[0m\u001b[0;34m(\u001b[0m\u001b[0;34m)\u001b[0m\u001b[0;34m)\u001b[0m\u001b[0;34m.\u001b[0m\u001b[0mcpu\u001b[0m\u001b[0;34m(\u001b[0m\u001b[0;34m)\u001b[0m\u001b[0;34m\u001b[0m\u001b[0;34m\u001b[0m\u001b[0m\n\u001b[1;32m     38\u001b[0m         \u001b[0macc_batch\u001b[0m\u001b[0;34m.\u001b[0m\u001b[0mappend\u001b[0m\u001b[0;34m(\u001b[0m\u001b[0mtorch\u001b[0m\u001b[0;34m.\u001b[0m\u001b[0mmean\u001b[0m\u001b[0;34m(\u001b[0m\u001b[0;34m(\u001b[0m\u001b[0mt\u001b[0m \u001b[0;34m==\u001b[0m \u001b[0my\u001b[0m\u001b[0;34m.\u001b[0m\u001b[0margmax\u001b[0m\u001b[0;34m(\u001b[0m\u001b[0;36m1\u001b[0m\u001b[0;34m)\u001b[0m\u001b[0;34m)\u001b[0m\u001b[0;34m.\u001b[0m\u001b[0mfloat\u001b[0m\u001b[0;34m(\u001b[0m\u001b[0;34m)\u001b[0m\u001b[0;34m)\u001b[0m\u001b[0;34m)\u001b[0m\u001b[0;34m\u001b[0m\u001b[0;34m\u001b[0m\u001b[0m\n",
            "\u001b[0;32m<ipython-input-10-61f08d32f0cb>\u001b[0m in \u001b[0;36mtrain_step\u001b[0;34m(x, t, net, opt_fn, loss_fn)\u001b[0m\n\u001b[1;32m      2\u001b[0m     \u001b[0my\u001b[0m \u001b[0;34m=\u001b[0m \u001b[0mnet\u001b[0m\u001b[0;34m(\u001b[0m\u001b[0mx\u001b[0m\u001b[0;34m.\u001b[0m\u001b[0mcuda\u001b[0m\u001b[0;34m(\u001b[0m\u001b[0;34m)\u001b[0m\u001b[0;34m)\u001b[0m\u001b[0;34m\u001b[0m\u001b[0;34m\u001b[0m\u001b[0m\n\u001b[1;32m      3\u001b[0m     \u001b[0mloss\u001b[0m \u001b[0;34m=\u001b[0m \u001b[0mloss_fn\u001b[0m\u001b[0;34m(\u001b[0m\u001b[0my\u001b[0m\u001b[0;34m,\u001b[0m \u001b[0mt\u001b[0m\u001b[0;34m.\u001b[0m\u001b[0mcuda\u001b[0m\u001b[0;34m(\u001b[0m\u001b[0;34m)\u001b[0m\u001b[0;34m)\u001b[0m\u001b[0;34m\u001b[0m\u001b[0;34m\u001b[0m\u001b[0m\n\u001b[0;32m----> 4\u001b[0;31m     \u001b[0mloss\u001b[0m\u001b[0;34m.\u001b[0m\u001b[0mbackward\u001b[0m\u001b[0;34m(\u001b[0m\u001b[0;34m)\u001b[0m\u001b[0;34m\u001b[0m\u001b[0;34m\u001b[0m\u001b[0m\n\u001b[0m\u001b[1;32m      5\u001b[0m     \u001b[0mopt_fn\u001b[0m\u001b[0;34m.\u001b[0m\u001b[0mstep\u001b[0m\u001b[0;34m(\u001b[0m\u001b[0;34m)\u001b[0m\u001b[0;34m\u001b[0m\u001b[0;34m\u001b[0m\u001b[0m\n\u001b[1;32m      6\u001b[0m     \u001b[0mopt_fn\u001b[0m\u001b[0;34m.\u001b[0m\u001b[0mzero_grad\u001b[0m\u001b[0;34m(\u001b[0m\u001b[0;34m)\u001b[0m\u001b[0;34m\u001b[0m\u001b[0;34m\u001b[0m\u001b[0m\n",
            "\u001b[0;32m/usr/local/lib/python3.6/dist-packages/torch/tensor.py\u001b[0m in \u001b[0;36mbackward\u001b[0;34m(self, gradient, retain_graph, create_graph)\u001b[0m\n\u001b[1;32m    219\u001b[0m                 \u001b[0mretain_graph\u001b[0m\u001b[0;34m=\u001b[0m\u001b[0mretain_graph\u001b[0m\u001b[0;34m,\u001b[0m\u001b[0;34m\u001b[0m\u001b[0;34m\u001b[0m\u001b[0m\n\u001b[1;32m    220\u001b[0m                 create_graph=create_graph)\n\u001b[0;32m--> 221\u001b[0;31m         \u001b[0mtorch\u001b[0m\u001b[0;34m.\u001b[0m\u001b[0mautograd\u001b[0m\u001b[0;34m.\u001b[0m\u001b[0mbackward\u001b[0m\u001b[0;34m(\u001b[0m\u001b[0mself\u001b[0m\u001b[0;34m,\u001b[0m \u001b[0mgradient\u001b[0m\u001b[0;34m,\u001b[0m \u001b[0mretain_graph\u001b[0m\u001b[0;34m,\u001b[0m \u001b[0mcreate_graph\u001b[0m\u001b[0;34m)\u001b[0m\u001b[0;34m\u001b[0m\u001b[0;34m\u001b[0m\u001b[0m\n\u001b[0m\u001b[1;32m    222\u001b[0m \u001b[0;34m\u001b[0m\u001b[0m\n\u001b[1;32m    223\u001b[0m     \u001b[0;32mdef\u001b[0m \u001b[0mregister_hook\u001b[0m\u001b[0;34m(\u001b[0m\u001b[0mself\u001b[0m\u001b[0;34m,\u001b[0m \u001b[0mhook\u001b[0m\u001b[0;34m)\u001b[0m\u001b[0;34m:\u001b[0m\u001b[0;34m\u001b[0m\u001b[0;34m\u001b[0m\u001b[0m\n",
            "\u001b[0;32m/usr/local/lib/python3.6/dist-packages/torch/autograd/__init__.py\u001b[0m in \u001b[0;36mbackward\u001b[0;34m(tensors, grad_tensors, retain_graph, create_graph, grad_variables)\u001b[0m\n\u001b[1;32m    130\u001b[0m     Variable._execution_engine.run_backward(\n\u001b[1;32m    131\u001b[0m         \u001b[0mtensors\u001b[0m\u001b[0;34m,\u001b[0m \u001b[0mgrad_tensors_\u001b[0m\u001b[0;34m,\u001b[0m \u001b[0mretain_graph\u001b[0m\u001b[0;34m,\u001b[0m \u001b[0mcreate_graph\u001b[0m\u001b[0;34m,\u001b[0m\u001b[0;34m\u001b[0m\u001b[0;34m\u001b[0m\u001b[0m\n\u001b[0;32m--> 132\u001b[0;31m         allow_unreachable=True)  # allow_unreachable flag\n\u001b[0m\u001b[1;32m    133\u001b[0m \u001b[0;34m\u001b[0m\u001b[0m\n\u001b[1;32m    134\u001b[0m \u001b[0;34m\u001b[0m\u001b[0m\n",
            "\u001b[0;31mKeyboardInterrupt\u001b[0m: "
          ]
        }
      ]
    },
    {
      "cell_type": "code",
      "metadata": {
        "id": "7XEB_pxlIrWI",
        "colab": {
          "base_uri": "https://localhost:8080/"
        },
        "outputId": "712de1b7-c2d8-4b2f-8f4c-785323ea2cbc"
      },
      "source": [
        "acc_hist_train"
      ],
      "execution_count": null,
      "outputs": [
        {
          "output_type": "execute_result",
          "data": {
            "text/plain": [
              "[tensor(0.4987), tensor(0.4987)]"
            ]
          },
          "metadata": {
            "tags": []
          },
          "execution_count": 12
        }
      ]
    },
    {
      "cell_type": "code",
      "metadata": {
        "colab": {
          "base_uri": "https://localhost:8080/"
        },
        "id": "bLO9cgl2khRw",
        "outputId": "2be08347-ecc0-46a6-a200-0a7e8464aada"
      },
      "source": [
        "acc_hist_test"
      ],
      "execution_count": null,
      "outputs": [
        {
          "output_type": "execute_result",
          "data": {
            "text/plain": [
              "[tensor(1.), tensor(1.)]"
            ]
          },
          "metadata": {
            "tags": []
          },
          "execution_count": 13
        }
      ]
    },
    {
      "cell_type": "code",
      "metadata": {
        "colab": {
          "base_uri": "https://localhost:8080/",
          "height": 282
        },
        "id": "h-jx1wknki1W",
        "outputId": "4abad770-6de2-4380-a056-b65715818c6e"
      },
      "source": [
        "import pylab as plt\n",
        "plt.plot(range(len(acc_hist_train)), acc_hist_train)\n",
        "plt.plot(range(len(acc_hist_test)), acc_hist_test)"
      ],
      "execution_count": null,
      "outputs": [
        {
          "output_type": "execute_result",
          "data": {
            "text/plain": [
              "[<matplotlib.lines.Line2D at 0x7f15e75537b8>]"
            ]
          },
          "metadata": {
            "tags": []
          },
          "execution_count": 14
        },
        {
          "output_type": "display_data",
          "data": {
            "image/png": "[encoded data removed]",
            "text/plain": [
              "<Figure size 432x288 with 1 Axes>"
            ]
          },
          "metadata": {
            "tags": [],
            "needs_background": "light"
          }
        }
      ]
    },
    {
      "cell_type": "code",
      "metadata": {
        "id": "Q7LVvNGkkjYV"
      },
      "source": [
        ""
      ],
      "execution_count": null,
      "outputs": []
    }
  ]
}